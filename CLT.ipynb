{
 "cells": [
  {
   "cell_type": "code",
   "execution_count": null,
   "metadata": {},
   "outputs": [],
   "source": [
    "import random\n",
    "import matplotlib.pyplot as plt\n",
    "import numpy as np\n",
    "import math"
   ]
  },
  {
   "cell_type": "code",
   "execution_count": null,
   "metadata": {},
   "outputs": [],
   "source": [
    "mu = 0\n",
    "sigma = 1"
   ]
  },
  {
   "cell_type": "code",
   "execution_count": null,
   "metadata": {},
   "outputs": [],
   "source": [
    "nums = [i for i in range(1, 7)]\n",
    "nums"
   ]
  },
  {
   "cell_type": "code",
   "execution_count": null,
   "metadata": {},
   "outputs": [],
   "source": [
    "x_bars = []\n",
    "para = []\n",
    "for s in range(2, 100):\n",
    "    #print(x_bar)\n",
    "    #print(s)\n",
    "    x_bar = []\n",
    "    for i in range(10000):\n",
    "        n = [random.choice(nums) for _ in range(s)]\n",
    "        x_bar += [sum(n) / len(n)]\n",
    "    x_bars += [x_bar]\n",
    "    \n",
    "    x_ = sum(x_bar)/len(x_bar)\n",
    "    s2 = sum([(i - x_)**2 for i in x_bar]) / len(x_bar)\n",
    "    s = math.sqrt(s2)\n",
    "    #print(x_, s)\n",
    "    para += [(x_, s)]\n",
    "    \n",
    "    #print(x_bars)\n",
    "    #exit()\n",
    "\n",
    "print(para)"
   ]
  },
  {
   "cell_type": "code",
   "execution_count": null,
   "metadata": {},
   "outputs": [],
   "source": [
    "x = [(i - para[10][0]) / para[10][1] for i in x_bars[10]]\n",
    "count, bins, ignored = plt.hist(x, 30, density=True)\n",
    "plt.plot(bins, 1/(sigma * np.sqrt(2 * np.pi)) *\n",
    "                np.exp( - (bins - mu)**2 / (2 * sigma**2) ),\n",
    "          linewidth=2, color='r')"
   ]
  },
  {
   "cell_type": "code",
   "execution_count": null,
   "metadata": {
    "scrolled": true
   },
   "outputs": [],
   "source": [
    "x = [(i - para[50][0]) / para[50][1] for i in x_bars[50]]\n",
    "count, bins, ignored = plt.hist(x, 30, density=True)\n",
    "plt.plot(bins, 1/(sigma * np.sqrt(2 * np.pi)) *\n",
    "                np.exp( - (bins - mu)**2 / (2 * sigma**2) ),\n",
    "          linewidth=2, color='r')"
   ]
  },
  {
   "cell_type": "code",
   "execution_count": null,
   "metadata": {
    "scrolled": true
   },
   "outputs": [],
   "source": [
    "x = [(i - para[90][0]) / para[90][1] for i in x_bars[90]]\n",
    "count, bins, ignored = plt.hist(x, 30, density=True)\n",
    "plt.plot(bins, 1/(sigma * np.sqrt(2 * np.pi)) *\n",
    "                np.exp( - (bins - mu)**2 / (2 * sigma**2) ),\n",
    "          linewidth=2, color='r')"
   ]
  }
 ],
 "metadata": {
  "kernelspec": {
   "display_name": "Python 3",
   "language": "python",
   "name": "python3"
  },
  "language_info": {
   "codemirror_mode": {
    "name": "ipython",
    "version": 3
   },
   "file_extension": ".py",
   "mimetype": "text/x-python",
   "name": "python",
   "nbconvert_exporter": "python",
   "pygments_lexer": "ipython3",
   "version": "3.6.6+"
  }
 },
 "nbformat": 4,
 "nbformat_minor": 4
}
