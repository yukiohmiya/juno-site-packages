{
 "cells": [
  {
   "cell_type": "code",
   "execution_count": 1,
   "metadata": {},
   "outputs": [
    {
     "name": "stdout",
     "output_type": "stream",
     "text": [
      "Collecting scipy\n",
      "  Using cached https://files.pythonhosted.org/packages/ee/5b/5afcd1c46f97b3c2ac3489dbc95d6ca28eacf8e3634e51f495da68d97f0f/scipy-1.3.1.tar.gz\n"
     ]
    },
    {
     "name": "stderr",
     "output_type": "stream",
     "text": [
      "  ERROR: Complete output from command /var/mobile/Containers/Data/Application/E752E214-B707-4B6A-A105-7C87FBA5C827/Library/bin/python3 /var/mobile/Containers/Data/Application/E752E214-B707-4B6A-A105-7C87FBA5C827/Library/lib/python3.7/site-packages/pip install --ignore-installed --no-user --prefix /private/var/mobile/Containers/Data/Application/E752E214-B707-4B6A-A105-7C87FBA5C827/tmp/pip-build-env-i1lw_115/overlay --no-warn-script-location --no-binary :none: --only-binary :none: -i https://pypi.org/simple -- wheel setuptools 'Cython>=0.29.2' 'numpy==1.13.3; python_version=='\"'\"'3.5'\"'\"' and platform_system!='\"'\"'AIX'\"'\"'' 'numpy==1.13.3; python_version=='\"'\"'3.6'\"'\"' and platform_system!='\"'\"'AIX'\"'\"'' 'numpy==1.14.5; python_version>='\"'\"'3.7'\"'\"' and platform_system!='\"'\"'AIX'\"'\"'' 'numpy==1.16.0; python_version=='\"'\"'3.5'\"'\"' and platform_system=='\"'\"'AIX'\"'\"'' 'numpy==1.16.0; python_version=='\"'\"'3.6'\"'\"' and platform_system=='\"'\"'AIX'\"'\"'' 'numpy==1.16.0; python_version>='\"'\"'3.7'\"'\"' and platform_system=='\"'\"'AIX'\"'\"'':\n",
      "  ERROR: ----------------------------------------\n"
     ]
    },
    {
     "name": "stdout",
     "output_type": "stream",
     "text": [
      "  Installing build dependencies: started\n",
      "  Installing build dependencies: finished with status 'error'\n"
     ]
    },
    {
     "name": "stderr",
     "output_type": "stream",
     "text": [
      "ERROR: Command \"/var/mobile/Containers/Data/Application/E752E214-B707-4B6A-A105-7C87FBA5C827/Library/bin/python3 /var/mobile/Containers/Data/Application/E752E214-B707-4B6A-A105-7C87FBA5C827/Library/lib/python3.7/site-packages/pip install --ignore-installed --no-user --prefix /private/var/mobile/Containers/Data/Application/E752E214-B707-4B6A-A105-7C87FBA5C827/tmp/pip-build-env-i1lw_115/overlay --no-warn-script-location --no-binary :none: --only-binary :none: -i https://pypi.org/simple -- wheel setuptools 'Cython>=0.29.2' 'numpy==1.13.3; python_version=='\"'\"'3.5'\"'\"' and platform_system!='\"'\"'AIX'\"'\"'' 'numpy==1.13.3; python_version=='\"'\"'3.6'\"'\"' and platform_system!='\"'\"'AIX'\"'\"'' 'numpy==1.14.5; python_version>='\"'\"'3.7'\"'\"' and platform_system!='\"'\"'AIX'\"'\"'' 'numpy==1.16.0; python_version=='\"'\"'3.5'\"'\"' and platform_system=='\"'\"'AIX'\"'\"'' 'numpy==1.16.0; python_version=='\"'\"'3.6'\"'\"' and platform_system=='\"'\"'AIX'\"'\"'' 'numpy==1.16.0; python_version>='\"'\"'3.7'\"'\"' and platform_system=='\"'\"'AIX'\"'\"''\" failed with error code 120 in None\n"
     ]
    }
   ],
   "source": [
    "!pip install scipy"
   ]
  },
  {
   "cell_type": "code",
   "execution_count": null,
   "metadata": {},
   "outputs": [],
   "source": []
  }
 ],
 "metadata": {
  "kernelspec": {
   "display_name": "Python 3",
   "language": "python",
   "name": "python3"
  },
  "language_info": {
   "codemirror_mode": {
    "name": "ipython",
    "version": 3
   },
   "file_extension": ".py",
   "mimetype": "text/x-python",
   "name": "python",
   "nbconvert_exporter": "python",
   "pygments_lexer": "ipython3",
   "version": "3.7.1"
  }
 },
 "nbformat": 4,
 "nbformat_minor": 2
}
