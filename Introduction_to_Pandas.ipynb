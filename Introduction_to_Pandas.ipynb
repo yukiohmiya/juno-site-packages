{
  "cells": [
    {
      "metadata": {},
      "cell_type": "markdown",
      "source": "# Introduction to Pandas"
    },
    {
      "metadata": {
        "trusted": true
      },
      "cell_type": "code",
      "source": "import pandas as pd\nimport math\nimport numpy as np\nimport matplotlib.pyplot as plt\n\n# jupyter notebook 用の inline 表示リクエスト\n%matplotlib inline",
      "execution_count": 1,
      "outputs": []
    },
    {
      "metadata": {
        "trusted": true
      },
      "cell_type": "code",
      "source": "# ndarray の場合\npd.DataFrame([[1, 2, 3], [4, 5, 6]])",
      "execution_count": 2,
      "outputs": [
        {
          "output_type": "execute_result",
          "execution_count": 2,
          "data": {
            "text/html": "<div>\n<style scoped>\n    .dataframe tbody tr th:only-of-type {\n        vertical-align: middle;\n    }\n\n    .dataframe tbody tr th {\n        vertical-align: top;\n    }\n\n    .dataframe thead th {\n        text-align: right;\n    }\n</style>\n<table border=\"1\" class=\"dataframe\">\n  <thead>\n    <tr style=\"text-align: right;\">\n      <th></th>\n      <th>0</th>\n      <th>1</th>\n      <th>2</th>\n    </tr>\n  </thead>\n  <tbody>\n    <tr>\n      <th>0</th>\n      <td>1</td>\n      <td>2</td>\n      <td>3</td>\n    </tr>\n    <tr>\n      <th>1</th>\n      <td>4</td>\n      <td>5</td>\n      <td>6</td>\n    </tr>\n  </tbody>\n</table>\n</div>",
            "text/plain": "   0  1  2\n0  1  2  3\n1  4  5  6"
          },
          "metadata": {}
        }
      ]
    },
    {
      "metadata": {
        "trusted": true
      },
      "cell_type": "code",
      "source": "# dict の場合\ndf1 = pd.DataFrame({'a': [1, 4], 'b': [2, 5], 'c': [3, 6]})\ndf1",
      "execution_count": 3,
      "outputs": [
        {
          "output_type": "execute_result",
          "execution_count": 3,
          "data": {
            "text/html": "<div>\n<style scoped>\n    .dataframe tbody tr th:only-of-type {\n        vertical-align: middle;\n    }\n\n    .dataframe tbody tr th {\n        vertical-align: top;\n    }\n\n    .dataframe thead th {\n        text-align: right;\n    }\n</style>\n<table border=\"1\" class=\"dataframe\">\n  <thead>\n    <tr style=\"text-align: right;\">\n      <th></th>\n      <th>a</th>\n      <th>b</th>\n      <th>c</th>\n    </tr>\n  </thead>\n  <tbody>\n    <tr>\n      <th>0</th>\n      <td>1</td>\n      <td>2</td>\n      <td>3</td>\n    </tr>\n    <tr>\n      <th>1</th>\n      <td>4</td>\n      <td>5</td>\n      <td>6</td>\n    </tr>\n  </tbody>\n</table>\n</div>",
            "text/plain": "   a  b  c\n0  1  2  3\n1  4  5  6"
          },
          "metadata": {}
        }
      ]
    },
    {
      "metadata": {
        "trusted": true
      },
      "cell_type": "code",
      "source": "df2 = pd.DataFrame([[1, 2, 3], [4, 5, 6]], columns=['a', 'b', 'c'])\ndf2",
      "execution_count": 4,
      "outputs": [
        {
          "output_type": "execute_result",
          "execution_count": 4,
          "data": {
            "text/html": "<div>\n<style scoped>\n    .dataframe tbody tr th:only-of-type {\n        vertical-align: middle;\n    }\n\n    .dataframe tbody tr th {\n        vertical-align: top;\n    }\n\n    .dataframe thead th {\n        text-align: right;\n    }\n</style>\n<table border=\"1\" class=\"dataframe\">\n  <thead>\n    <tr style=\"text-align: right;\">\n      <th></th>\n      <th>a</th>\n      <th>b</th>\n      <th>c</th>\n    </tr>\n  </thead>\n  <tbody>\n    <tr>\n      <th>0</th>\n      <td>1</td>\n      <td>2</td>\n      <td>3</td>\n    </tr>\n    <tr>\n      <th>1</th>\n      <td>4</td>\n      <td>5</td>\n      <td>6</td>\n    </tr>\n  </tbody>\n</table>\n</div>",
            "text/plain": "   a  b  c\n0  1  2  3\n1  4  5  6"
          },
          "metadata": {}
        }
      ]
    },
    {
      "metadata": {
        "trusted": true
      },
      "cell_type": "code",
      "source": "df1.equals(df2)",
      "execution_count": 5,
      "outputs": [
        {
          "output_type": "execute_result",
          "execution_count": 5,
          "data": {
            "text/plain": "True"
          },
          "metadata": {}
        }
      ]
    },
    {
      "metadata": {
        "trusted": true
      },
      "cell_type": "code",
      "source": "df1.dtypes",
      "execution_count": 6,
      "outputs": [
        {
          "output_type": "execute_result",
          "execution_count": 6,
          "data": {
            "text/plain": "a    int64\nb    int64\nc    int64\ndtype: object"
          },
          "metadata": {}
        }
      ]
    },
    {
      "metadata": {
        "trusted": true
      },
      "cell_type": "code",
      "source": "df1.a = df1.a.astype('float64')",
      "execution_count": 7,
      "outputs": []
    },
    {
      "metadata": {
        "trusted": true
      },
      "cell_type": "code",
      "source": "df1.dtypes",
      "execution_count": 8,
      "outputs": [
        {
          "output_type": "execute_result",
          "execution_count": 8,
          "data": {
            "text/plain": "a    float64\nb      int64\nc      int64\ndtype: object"
          },
          "metadata": {}
        }
      ]
    },
    {
      "metadata": {
        "trusted": true
      },
      "cell_type": "code",
      "source": "df1.a",
      "execution_count": 9,
      "outputs": [
        {
          "output_type": "execute_result",
          "execution_count": 9,
          "data": {
            "text/plain": "0    1.0\n1    4.0\nName: a, dtype: float64"
          },
          "metadata": {}
        }
      ]
    },
    {
      "metadata": {
        "trusted": true
      },
      "cell_type": "code",
      "source": "df1.values",
      "execution_count": 10,
      "outputs": [
        {
          "output_type": "execute_result",
          "execution_count": 10,
          "data": {
            "text/plain": "array([[1., 2., 3.],\n       [4., 5., 6.]])"
          },
          "metadata": {}
        }
      ]
    },
    {
      "metadata": {
        "trusted": true
      },
      "cell_type": "code",
      "source": "df1.size",
      "execution_count": 11,
      "outputs": [
        {
          "output_type": "execute_result",
          "execution_count": 11,
          "data": {
            "text/plain": "6"
          },
          "metadata": {}
        }
      ]
    },
    {
      "metadata": {
        "trusted": true
      },
      "cell_type": "code",
      "source": "df1['a']",
      "execution_count": 12,
      "outputs": [
        {
          "output_type": "execute_result",
          "execution_count": 12,
          "data": {
            "text/plain": "0    1.0\n1    4.0\nName: a, dtype: float64"
          },
          "metadata": {}
        }
      ]
    },
    {
      "metadata": {
        "trusted": true
      },
      "cell_type": "code",
      "source": "df1.loc[0]",
      "execution_count": 13,
      "outputs": [
        {
          "output_type": "execute_result",
          "execution_count": 13,
          "data": {
            "text/plain": "a    1.0\nb    2.0\nc    3.0\nName: 0, dtype: float64"
          },
          "metadata": {}
        }
      ]
    },
    {
      "metadata": {
        "trusted": true
      },
      "cell_type": "code",
      "source": "df = pd.read_csv(\"./sample_btc.csv\")",
      "execution_count": 14,
      "outputs": []
    },
    {
      "metadata": {
        "trusted": true
      },
      "cell_type": "code",
      "source": "df.head()",
      "execution_count": 15,
      "outputs": [
        {
          "output_type": "execute_result",
          "execution_count": 15,
          "data": {
            "text/html": "<div>\n<style scoped>\n    .dataframe tbody tr th:only-of-type {\n        vertical-align: middle;\n    }\n\n    .dataframe tbody tr th {\n        vertical-align: top;\n    }\n\n    .dataframe thead th {\n        text-align: right;\n    }\n</style>\n<table border=\"1\" class=\"dataframe\">\n  <thead>\n    <tr style=\"text-align: right;\">\n      <th></th>\n      <th>Timestamp</th>\n      <th>Open</th>\n      <th>High</th>\n      <th>Low</th>\n      <th>Close</th>\n      <th>Volume_(BTC)</th>\n      <th>Volume_(Currency)</th>\n      <th>Weighted_Price</th>\n    </tr>\n  </thead>\n  <tbody>\n    <tr>\n      <th>0</th>\n      <td>1508454000</td>\n      <td>5714.50</td>\n      <td>5722.00</td>\n      <td>5707.08</td>\n      <td>5722.00</td>\n      <td>4.116310</td>\n      <td>23517.533993</td>\n      <td>5713.255872</td>\n    </tr>\n    <tr>\n      <th>1</th>\n      <td>1508454060</td>\n      <td>5709.99</td>\n      <td>5722.00</td>\n      <td>5709.56</td>\n      <td>5711.16</td>\n      <td>4.320240</td>\n      <td>24680.498868</td>\n      <td>5712.761132</td>\n    </tr>\n    <tr>\n      <th>2</th>\n      <td>1508454120</td>\n      <td>5711.16</td>\n      <td>5718.80</td>\n      <td>5710.01</td>\n      <td>5710.01</td>\n      <td>3.854051</td>\n      <td>22020.718724</td>\n      <td>5713.655337</td>\n    </tr>\n    <tr>\n      <th>3</th>\n      <td>1508454180</td>\n      <td>5711.36</td>\n      <td>5711.36</td>\n      <td>5706.66</td>\n      <td>5706.66</td>\n      <td>1.164053</td>\n      <td>6646.271168</td>\n      <td>5709.594786</td>\n    </tr>\n    <tr>\n      <th>4</th>\n      <td>1508454240</td>\n      <td>5706.48</td>\n      <td>5710.87</td>\n      <td>5706.31</td>\n      <td>5706.31</td>\n      <td>1.385352</td>\n      <td>7908.523643</td>\n      <td>5708.674464</td>\n    </tr>\n  </tbody>\n</table>\n</div>",
            "text/plain": "    Timestamp     Open     High      Low    Close  Volume_(BTC)  \\\n0  1508454000  5714.50  5722.00  5707.08  5722.00      4.116310   \n1  1508454060  5709.99  5722.00  5709.56  5711.16      4.320240   \n2  1508454120  5711.16  5718.80  5710.01  5710.01      3.854051   \n3  1508454180  5711.36  5711.36  5706.66  5706.66      1.164053   \n4  1508454240  5706.48  5710.87  5706.31  5706.31      1.385352   \n\n   Volume_(Currency)  Weighted_Price  \n0       23517.533993     5713.255872  \n1       24680.498868     5712.761132  \n2       22020.718724     5713.655337  \n3        6646.271168     5709.594786  \n4        7908.523643     5708.674464  "
          },
          "metadata": {}
        }
      ]
    },
    {
      "metadata": {
        "trusted": true
      },
      "cell_type": "code",
      "source": "df.tail()",
      "execution_count": 16,
      "outputs": [
        {
          "output_type": "execute_result",
          "execution_count": 16,
          "data": {
            "text/html": "<div>\n<style scoped>\n    .dataframe tbody tr th:only-of-type {\n        vertical-align: middle;\n    }\n\n    .dataframe tbody tr th {\n        vertical-align: top;\n    }\n\n    .dataframe thead th {\n        text-align: right;\n    }\n</style>\n<table border=\"1\" class=\"dataframe\">\n  <thead>\n    <tr style=\"text-align: right;\">\n      <th></th>\n      <th>Timestamp</th>\n      <th>Open</th>\n      <th>High</th>\n      <th>Low</th>\n      <th>Close</th>\n      <th>Volume_(BTC)</th>\n      <th>Volume_(Currency)</th>\n      <th>Weighted_Price</th>\n    </tr>\n  </thead>\n  <tbody>\n    <tr>\n      <th>56</th>\n      <td>1508457360</td>\n      <td>5690.88</td>\n      <td>5690.88</td>\n      <td>5690.88</td>\n      <td>5690.88</td>\n      <td>0.168941</td>\n      <td>961.421706</td>\n      <td>5690.880000</td>\n    </tr>\n    <tr>\n      <th>57</th>\n      <td>1508457420</td>\n      <td>5698.13</td>\n      <td>5704.10</td>\n      <td>5695.63</td>\n      <td>5704.10</td>\n      <td>2.311662</td>\n      <td>13174.852877</td>\n      <td>5699.300163</td>\n    </tr>\n    <tr>\n      <th>58</th>\n      <td>1508457480</td>\n      <td>5695.62</td>\n      <td>5695.64</td>\n      <td>5694.00</td>\n      <td>5695.64</td>\n      <td>0.129647</td>\n      <td>738.409647</td>\n      <td>5695.533637</td>\n    </tr>\n    <tr>\n      <th>59</th>\n      <td>1508457540</td>\n      <td>5700.39</td>\n      <td>5700.39</td>\n      <td>5698.69</td>\n      <td>5698.69</td>\n      <td>0.085426</td>\n      <td>486.929798</td>\n      <td>5700.004031</td>\n    </tr>\n    <tr>\n      <th>60</th>\n      <td>1508457600</td>\n      <td>5700.00</td>\n      <td>5700.00</td>\n      <td>5698.68</td>\n      <td>5700.00</td>\n      <td>0.116847</td>\n      <td>665.913860</td>\n      <td>5699.046463</td>\n    </tr>\n  </tbody>\n</table>\n</div>",
            "text/plain": "     Timestamp     Open     High      Low    Close  Volume_(BTC)  \\\n56  1508457360  5690.88  5690.88  5690.88  5690.88      0.168941   \n57  1508457420  5698.13  5704.10  5695.63  5704.10      2.311662   \n58  1508457480  5695.62  5695.64  5694.00  5695.64      0.129647   \n59  1508457540  5700.39  5700.39  5698.69  5698.69      0.085426   \n60  1508457600  5700.00  5700.00  5698.68  5700.00      0.116847   \n\n    Volume_(Currency)  Weighted_Price  \n56         961.421706     5690.880000  \n57       13174.852877     5699.300163  \n58         738.409647     5695.533637  \n59         486.929798     5700.004031  \n60         665.913860     5699.046463  "
          },
          "metadata": {}
        }
      ]
    },
    {
      "metadata": {
        "trusted": true
      },
      "cell_type": "code",
      "source": "df.set_index('Timestamp')",
      "execution_count": 17,
      "outputs": [
        {
          "output_type": "execute_result",
          "execution_count": 17,
          "data": {
            "text/html": "<div>\n<style scoped>\n    .dataframe tbody tr th:only-of-type {\n        vertical-align: middle;\n    }\n\n    .dataframe tbody tr th {\n        vertical-align: top;\n    }\n\n    .dataframe thead th {\n        text-align: right;\n    }\n</style>\n<table border=\"1\" class=\"dataframe\">\n  <thead>\n    <tr style=\"text-align: right;\">\n      <th></th>\n      <th>Open</th>\n      <th>High</th>\n      <th>Low</th>\n      <th>Close</th>\n      <th>Volume_(BTC)</th>\n      <th>Volume_(Currency)</th>\n      <th>Weighted_Price</th>\n    </tr>\n    <tr>\n      <th>Timestamp</th>\n      <th></th>\n      <th></th>\n      <th></th>\n      <th></th>\n      <th></th>\n      <th></th>\n      <th></th>\n    </tr>\n  </thead>\n  <tbody>\n    <tr>\n      <th>1508454000</th>\n      <td>5714.50</td>\n      <td>5722.00</td>\n      <td>5707.08</td>\n      <td>5722.00</td>\n      <td>4.116310</td>\n      <td>23517.533993</td>\n      <td>5713.255872</td>\n    </tr>\n    <tr>\n      <th>1508454060</th>\n      <td>5709.99</td>\n      <td>5722.00</td>\n      <td>5709.56</td>\n      <td>5711.16</td>\n      <td>4.320240</td>\n      <td>24680.498868</td>\n      <td>5712.761132</td>\n    </tr>\n    <tr>\n      <th>1508454120</th>\n      <td>5711.16</td>\n      <td>5718.80</td>\n      <td>5710.01</td>\n      <td>5710.01</td>\n      <td>3.854051</td>\n      <td>22020.718724</td>\n      <td>5713.655337</td>\n    </tr>\n    <tr>\n      <th>1508454180</th>\n      <td>5711.36</td>\n      <td>5711.36</td>\n      <td>5706.66</td>\n      <td>5706.66</td>\n      <td>1.164053</td>\n      <td>6646.271168</td>\n      <td>5709.594786</td>\n    </tr>\n    <tr>\n      <th>1508454240</th>\n      <td>5706.48</td>\n      <td>5710.87</td>\n      <td>5706.31</td>\n      <td>5706.31</td>\n      <td>1.385352</td>\n      <td>7908.523643</td>\n      <td>5708.674464</td>\n    </tr>\n    <tr>\n      <th>...</th>\n      <td>...</td>\n      <td>...</td>\n      <td>...</td>\n      <td>...</td>\n      <td>...</td>\n      <td>...</td>\n      <td>...</td>\n    </tr>\n    <tr>\n      <th>1508457360</th>\n      <td>5690.88</td>\n      <td>5690.88</td>\n      <td>5690.88</td>\n      <td>5690.88</td>\n      <td>0.168941</td>\n      <td>961.421706</td>\n      <td>5690.880000</td>\n    </tr>\n    <tr>\n      <th>1508457420</th>\n      <td>5698.13</td>\n      <td>5704.10</td>\n      <td>5695.63</td>\n      <td>5704.10</td>\n      <td>2.311662</td>\n      <td>13174.852877</td>\n      <td>5699.300163</td>\n    </tr>\n    <tr>\n      <th>1508457480</th>\n      <td>5695.62</td>\n      <td>5695.64</td>\n      <td>5694.00</td>\n      <td>5695.64</td>\n      <td>0.129647</td>\n      <td>738.409647</td>\n      <td>5695.533637</td>\n    </tr>\n    <tr>\n      <th>1508457540</th>\n      <td>5700.39</td>\n      <td>5700.39</td>\n      <td>5698.69</td>\n      <td>5698.69</td>\n      <td>0.085426</td>\n      <td>486.929798</td>\n      <td>5700.004031</td>\n    </tr>\n    <tr>\n      <th>1508457600</th>\n      <td>5700.00</td>\n      <td>5700.00</td>\n      <td>5698.68</td>\n      <td>5700.00</td>\n      <td>0.116847</td>\n      <td>665.913860</td>\n      <td>5699.046463</td>\n    </tr>\n  </tbody>\n</table>\n<p>61 rows × 7 columns</p>\n</div>",
            "text/plain": "               Open     High      Low    Close  Volume_(BTC)  \\\nTimestamp                                                      \n1508454000  5714.50  5722.00  5707.08  5722.00      4.116310   \n1508454060  5709.99  5722.00  5709.56  5711.16      4.320240   \n1508454120  5711.16  5718.80  5710.01  5710.01      3.854051   \n1508454180  5711.36  5711.36  5706.66  5706.66      1.164053   \n1508454240  5706.48  5710.87  5706.31  5706.31      1.385352   \n...             ...      ...      ...      ...           ...   \n1508457360  5690.88  5690.88  5690.88  5690.88      0.168941   \n1508457420  5698.13  5704.10  5695.63  5704.10      2.311662   \n1508457480  5695.62  5695.64  5694.00  5695.64      0.129647   \n1508457540  5700.39  5700.39  5698.69  5698.69      0.085426   \n1508457600  5700.00  5700.00  5698.68  5700.00      0.116847   \n\n            Volume_(Currency)  Weighted_Price  \nTimestamp                                      \n1508454000       23517.533993     5713.255872  \n1508454060       24680.498868     5712.761132  \n1508454120       22020.718724     5713.655337  \n1508454180        6646.271168     5709.594786  \n1508454240        7908.523643     5708.674464  \n...                       ...             ...  \n1508457360         961.421706     5690.880000  \n1508457420       13174.852877     5699.300163  \n1508457480         738.409647     5695.533637  \n1508457540         486.929798     5700.004031  \n1508457600         665.913860     5699.046463  \n\n[61 rows x 7 columns]"
          },
          "metadata": {}
        }
      ]
    },
    {
      "metadata": {
        "trusted": true
      },
      "cell_type": "code",
      "source": "df.reset_index()",
      "execution_count": 18,
      "outputs": [
        {
          "output_type": "execute_result",
          "execution_count": 18,
          "data": {
            "text/html": "<div>\n<style scoped>\n    .dataframe tbody tr th:only-of-type {\n        vertical-align: middle;\n    }\n\n    .dataframe tbody tr th {\n        vertical-align: top;\n    }\n\n    .dataframe thead th {\n        text-align: right;\n    }\n</style>\n<table border=\"1\" class=\"dataframe\">\n  <thead>\n    <tr style=\"text-align: right;\">\n      <th></th>\n      <th>index</th>\n      <th>Timestamp</th>\n      <th>Open</th>\n      <th>High</th>\n      <th>Low</th>\n      <th>Close</th>\n      <th>Volume_(BTC)</th>\n      <th>Volume_(Currency)</th>\n      <th>Weighted_Price</th>\n    </tr>\n  </thead>\n  <tbody>\n    <tr>\n      <th>0</th>\n      <td>0</td>\n      <td>1508454000</td>\n      <td>5714.50</td>\n      <td>5722.00</td>\n      <td>5707.08</td>\n      <td>5722.00</td>\n      <td>4.116310</td>\n      <td>23517.533993</td>\n      <td>5713.255872</td>\n    </tr>\n    <tr>\n      <th>1</th>\n      <td>1</td>\n      <td>1508454060</td>\n      <td>5709.99</td>\n      <td>5722.00</td>\n      <td>5709.56</td>\n      <td>5711.16</td>\n      <td>4.320240</td>\n      <td>24680.498868</td>\n      <td>5712.761132</td>\n    </tr>\n    <tr>\n      <th>2</th>\n      <td>2</td>\n      <td>1508454120</td>\n      <td>5711.16</td>\n      <td>5718.80</td>\n      <td>5710.01</td>\n      <td>5710.01</td>\n      <td>3.854051</td>\n      <td>22020.718724</td>\n      <td>5713.655337</td>\n    </tr>\n    <tr>\n      <th>3</th>\n      <td>3</td>\n      <td>1508454180</td>\n      <td>5711.36</td>\n      <td>5711.36</td>\n      <td>5706.66</td>\n      <td>5706.66</td>\n      <td>1.164053</td>\n      <td>6646.271168</td>\n      <td>5709.594786</td>\n    </tr>\n    <tr>\n      <th>4</th>\n      <td>4</td>\n      <td>1508454240</td>\n      <td>5706.48</td>\n      <td>5710.87</td>\n      <td>5706.31</td>\n      <td>5706.31</td>\n      <td>1.385352</td>\n      <td>7908.523643</td>\n      <td>5708.674464</td>\n    </tr>\n    <tr>\n      <th>...</th>\n      <td>...</td>\n      <td>...</td>\n      <td>...</td>\n      <td>...</td>\n      <td>...</td>\n      <td>...</td>\n      <td>...</td>\n      <td>...</td>\n      <td>...</td>\n    </tr>\n    <tr>\n      <th>56</th>\n      <td>56</td>\n      <td>1508457360</td>\n      <td>5690.88</td>\n      <td>5690.88</td>\n      <td>5690.88</td>\n      <td>5690.88</td>\n      <td>0.168941</td>\n      <td>961.421706</td>\n      <td>5690.880000</td>\n    </tr>\n    <tr>\n      <th>57</th>\n      <td>57</td>\n      <td>1508457420</td>\n      <td>5698.13</td>\n      <td>5704.10</td>\n      <td>5695.63</td>\n      <td>5704.10</td>\n      <td>2.311662</td>\n      <td>13174.852877</td>\n      <td>5699.300163</td>\n    </tr>\n    <tr>\n      <th>58</th>\n      <td>58</td>\n      <td>1508457480</td>\n      <td>5695.62</td>\n      <td>5695.64</td>\n      <td>5694.00</td>\n      <td>5695.64</td>\n      <td>0.129647</td>\n      <td>738.409647</td>\n      <td>5695.533637</td>\n    </tr>\n    <tr>\n      <th>59</th>\n      <td>59</td>\n      <td>1508457540</td>\n      <td>5700.39</td>\n      <td>5700.39</td>\n      <td>5698.69</td>\n      <td>5698.69</td>\n      <td>0.085426</td>\n      <td>486.929798</td>\n      <td>5700.004031</td>\n    </tr>\n    <tr>\n      <th>60</th>\n      <td>60</td>\n      <td>1508457600</td>\n      <td>5700.00</td>\n      <td>5700.00</td>\n      <td>5698.68</td>\n      <td>5700.00</td>\n      <td>0.116847</td>\n      <td>665.913860</td>\n      <td>5699.046463</td>\n    </tr>\n  </tbody>\n</table>\n<p>61 rows × 9 columns</p>\n</div>",
            "text/plain": "    index   Timestamp     Open     High      Low    Close  Volume_(BTC)  \\\n0       0  1508454000  5714.50  5722.00  5707.08  5722.00      4.116310   \n1       1  1508454060  5709.99  5722.00  5709.56  5711.16      4.320240   \n2       2  1508454120  5711.16  5718.80  5710.01  5710.01      3.854051   \n3       3  1508454180  5711.36  5711.36  5706.66  5706.66      1.164053   \n4       4  1508454240  5706.48  5710.87  5706.31  5706.31      1.385352   \n..    ...         ...      ...      ...      ...      ...           ...   \n56     56  1508457360  5690.88  5690.88  5690.88  5690.88      0.168941   \n57     57  1508457420  5698.13  5704.10  5695.63  5704.10      2.311662   \n58     58  1508457480  5695.62  5695.64  5694.00  5695.64      0.129647   \n59     59  1508457540  5700.39  5700.39  5698.69  5698.69      0.085426   \n60     60  1508457600  5700.00  5700.00  5698.68  5700.00      0.116847   \n\n    Volume_(Currency)  Weighted_Price  \n0        23517.533993     5713.255872  \n1        24680.498868     5712.761132  \n2        22020.718724     5713.655337  \n3         6646.271168     5709.594786  \n4         7908.523643     5708.674464  \n..                ...             ...  \n56         961.421706     5690.880000  \n57       13174.852877     5699.300163  \n58         738.409647     5695.533637  \n59         486.929798     5700.004031  \n60         665.913860     5699.046463  \n\n[61 rows x 9 columns]"
          },
          "metadata": {}
        }
      ]
    },
    {
      "metadata": {
        "trusted": true
      },
      "cell_type": "code",
      "source": "df.set_index('Timestamp')",
      "execution_count": 19,
      "outputs": [
        {
          "output_type": "execute_result",
          "execution_count": 19,
          "data": {
            "text/html": "<div>\n<style scoped>\n    .dataframe tbody tr th:only-of-type {\n        vertical-align: middle;\n    }\n\n    .dataframe tbody tr th {\n        vertical-align: top;\n    }\n\n    .dataframe thead th {\n        text-align: right;\n    }\n</style>\n<table border=\"1\" class=\"dataframe\">\n  <thead>\n    <tr style=\"text-align: right;\">\n      <th></th>\n      <th>Open</th>\n      <th>High</th>\n      <th>Low</th>\n      <th>Close</th>\n      <th>Volume_(BTC)</th>\n      <th>Volume_(Currency)</th>\n      <th>Weighted_Price</th>\n    </tr>\n    <tr>\n      <th>Timestamp</th>\n      <th></th>\n      <th></th>\n      <th></th>\n      <th></th>\n      <th></th>\n      <th></th>\n      <th></th>\n    </tr>\n  </thead>\n  <tbody>\n    <tr>\n      <th>1508454000</th>\n      <td>5714.50</td>\n      <td>5722.00</td>\n      <td>5707.08</td>\n      <td>5722.00</td>\n      <td>4.116310</td>\n      <td>23517.533993</td>\n      <td>5713.255872</td>\n    </tr>\n    <tr>\n      <th>1508454060</th>\n      <td>5709.99</td>\n      <td>5722.00</td>\n      <td>5709.56</td>\n      <td>5711.16</td>\n      <td>4.320240</td>\n      <td>24680.498868</td>\n      <td>5712.761132</td>\n    </tr>\n    <tr>\n      <th>1508454120</th>\n      <td>5711.16</td>\n      <td>5718.80</td>\n      <td>5710.01</td>\n      <td>5710.01</td>\n      <td>3.854051</td>\n      <td>22020.718724</td>\n      <td>5713.655337</td>\n    </tr>\n    <tr>\n      <th>1508454180</th>\n      <td>5711.36</td>\n      <td>5711.36</td>\n      <td>5706.66</td>\n      <td>5706.66</td>\n      <td>1.164053</td>\n      <td>6646.271168</td>\n      <td>5709.594786</td>\n    </tr>\n    <tr>\n      <th>1508454240</th>\n      <td>5706.48</td>\n      <td>5710.87</td>\n      <td>5706.31</td>\n      <td>5706.31</td>\n      <td>1.385352</td>\n      <td>7908.523643</td>\n      <td>5708.674464</td>\n    </tr>\n    <tr>\n      <th>...</th>\n      <td>...</td>\n      <td>...</td>\n      <td>...</td>\n      <td>...</td>\n      <td>...</td>\n      <td>...</td>\n      <td>...</td>\n    </tr>\n    <tr>\n      <th>1508457360</th>\n      <td>5690.88</td>\n      <td>5690.88</td>\n      <td>5690.88</td>\n      <td>5690.88</td>\n      <td>0.168941</td>\n      <td>961.421706</td>\n      <td>5690.880000</td>\n    </tr>\n    <tr>\n      <th>1508457420</th>\n      <td>5698.13</td>\n      <td>5704.10</td>\n      <td>5695.63</td>\n      <td>5704.10</td>\n      <td>2.311662</td>\n      <td>13174.852877</td>\n      <td>5699.300163</td>\n    </tr>\n    <tr>\n      <th>1508457480</th>\n      <td>5695.62</td>\n      <td>5695.64</td>\n      <td>5694.00</td>\n      <td>5695.64</td>\n      <td>0.129647</td>\n      <td>738.409647</td>\n      <td>5695.533637</td>\n    </tr>\n    <tr>\n      <th>1508457540</th>\n      <td>5700.39</td>\n      <td>5700.39</td>\n      <td>5698.69</td>\n      <td>5698.69</td>\n      <td>0.085426</td>\n      <td>486.929798</td>\n      <td>5700.004031</td>\n    </tr>\n    <tr>\n      <th>1508457600</th>\n      <td>5700.00</td>\n      <td>5700.00</td>\n      <td>5698.68</td>\n      <td>5700.00</td>\n      <td>0.116847</td>\n      <td>665.913860</td>\n      <td>5699.046463</td>\n    </tr>\n  </tbody>\n</table>\n<p>61 rows × 7 columns</p>\n</div>",
            "text/plain": "               Open     High      Low    Close  Volume_(BTC)  \\\nTimestamp                                                      \n1508454000  5714.50  5722.00  5707.08  5722.00      4.116310   \n1508454060  5709.99  5722.00  5709.56  5711.16      4.320240   \n1508454120  5711.16  5718.80  5710.01  5710.01      3.854051   \n1508454180  5711.36  5711.36  5706.66  5706.66      1.164053   \n1508454240  5706.48  5710.87  5706.31  5706.31      1.385352   \n...             ...      ...      ...      ...           ...   \n1508457360  5690.88  5690.88  5690.88  5690.88      0.168941   \n1508457420  5698.13  5704.10  5695.63  5704.10      2.311662   \n1508457480  5695.62  5695.64  5694.00  5695.64      0.129647   \n1508457540  5700.39  5700.39  5698.69  5698.69      0.085426   \n1508457600  5700.00  5700.00  5698.68  5700.00      0.116847   \n\n            Volume_(Currency)  Weighted_Price  \nTimestamp                                      \n1508454000       23517.533993     5713.255872  \n1508454060       24680.498868     5712.761132  \n1508454120       22020.718724     5713.655337  \n1508454180        6646.271168     5709.594786  \n1508454240        7908.523643     5708.674464  \n...                       ...             ...  \n1508457360         961.421706     5690.880000  \n1508457420       13174.852877     5699.300163  \n1508457480         738.409647     5695.533637  \n1508457540         486.929798     5700.004031  \n1508457600         665.913860     5699.046463  \n\n[61 rows x 7 columns]"
          },
          "metadata": {}
        }
      ]
    },
    {
      "metadata": {
        "trusted": true
      },
      "cell_type": "code",
      "source": "df = pd.read_csv('./sample_btc.csv', index_col=0)\ndf",
      "execution_count": 20,
      "outputs": [
        {
          "output_type": "execute_result",
          "execution_count": 20,
          "data": {
            "text/html": "<div>\n<style scoped>\n    .dataframe tbody tr th:only-of-type {\n        vertical-align: middle;\n    }\n\n    .dataframe tbody tr th {\n        vertical-align: top;\n    }\n\n    .dataframe thead th {\n        text-align: right;\n    }\n</style>\n<table border=\"1\" class=\"dataframe\">\n  <thead>\n    <tr style=\"text-align: right;\">\n      <th></th>\n      <th>Open</th>\n      <th>High</th>\n      <th>Low</th>\n      <th>Close</th>\n      <th>Volume_(BTC)</th>\n      <th>Volume_(Currency)</th>\n      <th>Weighted_Price</th>\n    </tr>\n    <tr>\n      <th>Timestamp</th>\n      <th></th>\n      <th></th>\n      <th></th>\n      <th></th>\n      <th></th>\n      <th></th>\n      <th></th>\n    </tr>\n  </thead>\n  <tbody>\n    <tr>\n      <th>1508454000</th>\n      <td>5714.50</td>\n      <td>5722.00</td>\n      <td>5707.08</td>\n      <td>5722.00</td>\n      <td>4.116310</td>\n      <td>23517.533993</td>\n      <td>5713.255872</td>\n    </tr>\n    <tr>\n      <th>1508454060</th>\n      <td>5709.99</td>\n      <td>5722.00</td>\n      <td>5709.56</td>\n      <td>5711.16</td>\n      <td>4.320240</td>\n      <td>24680.498868</td>\n      <td>5712.761132</td>\n    </tr>\n    <tr>\n      <th>1508454120</th>\n      <td>5711.16</td>\n      <td>5718.80</td>\n      <td>5710.01</td>\n      <td>5710.01</td>\n      <td>3.854051</td>\n      <td>22020.718724</td>\n      <td>5713.655337</td>\n    </tr>\n    <tr>\n      <th>1508454180</th>\n      <td>5711.36</td>\n      <td>5711.36</td>\n      <td>5706.66</td>\n      <td>5706.66</td>\n      <td>1.164053</td>\n      <td>6646.271168</td>\n      <td>5709.594786</td>\n    </tr>\n    <tr>\n      <th>1508454240</th>\n      <td>5706.48</td>\n      <td>5710.87</td>\n      <td>5706.31</td>\n      <td>5706.31</td>\n      <td>1.385352</td>\n      <td>7908.523643</td>\n      <td>5708.674464</td>\n    </tr>\n    <tr>\n      <th>...</th>\n      <td>...</td>\n      <td>...</td>\n      <td>...</td>\n      <td>...</td>\n      <td>...</td>\n      <td>...</td>\n      <td>...</td>\n    </tr>\n    <tr>\n      <th>1508457360</th>\n      <td>5690.88</td>\n      <td>5690.88</td>\n      <td>5690.88</td>\n      <td>5690.88</td>\n      <td>0.168941</td>\n      <td>961.421706</td>\n      <td>5690.880000</td>\n    </tr>\n    <tr>\n      <th>1508457420</th>\n      <td>5698.13</td>\n      <td>5704.10</td>\n      <td>5695.63</td>\n      <td>5704.10</td>\n      <td>2.311662</td>\n      <td>13174.852877</td>\n      <td>5699.300163</td>\n    </tr>\n    <tr>\n      <th>1508457480</th>\n      <td>5695.62</td>\n      <td>5695.64</td>\n      <td>5694.00</td>\n      <td>5695.64</td>\n      <td>0.129647</td>\n      <td>738.409647</td>\n      <td>5695.533637</td>\n    </tr>\n    <tr>\n      <th>1508457540</th>\n      <td>5700.39</td>\n      <td>5700.39</td>\n      <td>5698.69</td>\n      <td>5698.69</td>\n      <td>0.085426</td>\n      <td>486.929798</td>\n      <td>5700.004031</td>\n    </tr>\n    <tr>\n      <th>1508457600</th>\n      <td>5700.00</td>\n      <td>5700.00</td>\n      <td>5698.68</td>\n      <td>5700.00</td>\n      <td>0.116847</td>\n      <td>665.913860</td>\n      <td>5699.046463</td>\n    </tr>\n  </tbody>\n</table>\n<p>61 rows × 7 columns</p>\n</div>",
            "text/plain": "               Open     High      Low    Close  Volume_(BTC)  \\\nTimestamp                                                      \n1508454000  5714.50  5722.00  5707.08  5722.00      4.116310   \n1508454060  5709.99  5722.00  5709.56  5711.16      4.320240   \n1508454120  5711.16  5718.80  5710.01  5710.01      3.854051   \n1508454180  5711.36  5711.36  5706.66  5706.66      1.164053   \n1508454240  5706.48  5710.87  5706.31  5706.31      1.385352   \n...             ...      ...      ...      ...           ...   \n1508457360  5690.88  5690.88  5690.88  5690.88      0.168941   \n1508457420  5698.13  5704.10  5695.63  5704.10      2.311662   \n1508457480  5695.62  5695.64  5694.00  5695.64      0.129647   \n1508457540  5700.39  5700.39  5698.69  5698.69      0.085426   \n1508457600  5700.00  5700.00  5698.68  5700.00      0.116847   \n\n            Volume_(Currency)  Weighted_Price  \nTimestamp                                      \n1508454000       23517.533993     5713.255872  \n1508454060       24680.498868     5712.761132  \n1508454120       22020.718724     5713.655337  \n1508454180        6646.271168     5709.594786  \n1508454240        7908.523643     5708.674464  \n...                       ...             ...  \n1508457360         961.421706     5690.880000  \n1508457420       13174.852877     5699.300163  \n1508457480         738.409647     5695.533637  \n1508457540         486.929798     5700.004031  \n1508457600         665.913860     5699.046463  \n\n[61 rows x 7 columns]"
          },
          "metadata": {}
        }
      ]
    },
    {
      "metadata": {
        "trusted": true
      },
      "cell_type": "code",
      "source": "df.loc[1508457540]",
      "execution_count": 21,
      "outputs": [
        {
          "output_type": "execute_result",
          "execution_count": 21,
          "data": {
            "text/plain": "Open                 5700.390000\nHigh                 5700.390000\nLow                  5698.690000\nClose                5698.690000\nVolume_(BTC)            0.085426\nVolume_(Currency)     486.929798\nWeighted_Price       5700.004031\nName: 1508457540, dtype: float64"
          },
          "metadata": {}
        }
      ]
    },
    {
      "metadata": {
        "trusted": true
      },
      "cell_type": "code",
      "source": "df.at[1508457540, 'Close']",
      "execution_count": 22,
      "outputs": [
        {
          "output_type": "execute_result",
          "execution_count": 22,
          "data": {
            "text/plain": "5698.69"
          },
          "metadata": {}
        }
      ]
    },
    {
      "metadata": {
        "trusted": true
      },
      "cell_type": "code",
      "source": "df.describe()",
      "execution_count": 23,
      "outputs": [
        {
          "output_type": "execute_result",
          "execution_count": 23,
          "data": {
            "text/html": "<div>\n<style scoped>\n    .dataframe tbody tr th:only-of-type {\n        vertical-align: middle;\n    }\n\n    .dataframe tbody tr th {\n        vertical-align: top;\n    }\n\n    .dataframe thead th {\n        text-align: right;\n    }\n</style>\n<table border=\"1\" class=\"dataframe\">\n  <thead>\n    <tr style=\"text-align: right;\">\n      <th></th>\n      <th>Open</th>\n      <th>High</th>\n      <th>Low</th>\n      <th>Close</th>\n      <th>Volume_(BTC)</th>\n      <th>Volume_(Currency)</th>\n      <th>Weighted_Price</th>\n    </tr>\n  </thead>\n  <tbody>\n    <tr>\n      <th>count</th>\n      <td>61.000000</td>\n      <td>61.000000</td>\n      <td>61.000000</td>\n      <td>61.000000</td>\n      <td>61.000000</td>\n      <td>61.000000</td>\n      <td>61.000000</td>\n    </tr>\n    <tr>\n      <th>mean</th>\n      <td>5711.347541</td>\n      <td>5713.140164</td>\n      <td>5709.262787</td>\n      <td>5711.027541</td>\n      <td>1.802100</td>\n      <td>10285.950059</td>\n      <td>5711.197041</td>\n    </tr>\n    <tr>\n      <th>std</th>\n      <td>9.889195</td>\n      <td>10.505623</td>\n      <td>9.408502</td>\n      <td>10.106421</td>\n      <td>5.847390</td>\n      <td>33350.541325</td>\n      <td>9.798496</td>\n    </tr>\n    <tr>\n      <th>min</th>\n      <td>5690.880000</td>\n      <td>5690.880000</td>\n      <td>5690.880000</td>\n      <td>5690.880000</td>\n      <td>0.007902</td>\n      <td>45.090203</td>\n      <td>5690.880000</td>\n    </tr>\n    <tr>\n      <th>25%</th>\n      <td>5703.900000</td>\n      <td>5704.010000</td>\n      <td>5702.430000</td>\n      <td>5703.950000</td>\n      <td>0.085426</td>\n      <td>486.929798</td>\n      <td>5703.873513</td>\n    </tr>\n    <tr>\n      <th>50%</th>\n      <td>5708.850000</td>\n      <td>5710.570000</td>\n      <td>5706.010000</td>\n      <td>5708.840000</td>\n      <td>0.306643</td>\n      <td>1754.230240</td>\n      <td>5709.005356</td>\n    </tr>\n    <tr>\n      <th>75%</th>\n      <td>5720.010000</td>\n      <td>5722.810000</td>\n      <td>5719.950000</td>\n      <td>5720.410000</td>\n      <td>1.068407</td>\n      <td>6111.485975</td>\n      <td>5720.186975</td>\n    </tr>\n    <tr>\n      <th>max</th>\n      <td>5728.990000</td>\n      <td>5729.000000</td>\n      <td>5728.990000</td>\n      <td>5729.000000</td>\n      <td>44.402299</td>\n      <td>253201.252480</td>\n      <td>5728.992486</td>\n    </tr>\n  </tbody>\n</table>\n</div>",
            "text/plain": "              Open         High          Low        Close  Volume_(BTC)  \\\ncount    61.000000    61.000000    61.000000    61.000000     61.000000   \nmean   5711.347541  5713.140164  5709.262787  5711.027541      1.802100   \nstd       9.889195    10.505623     9.408502    10.106421      5.847390   \nmin    5690.880000  5690.880000  5690.880000  5690.880000      0.007902   \n25%    5703.900000  5704.010000  5702.430000  5703.950000      0.085426   \n50%    5708.850000  5710.570000  5706.010000  5708.840000      0.306643   \n75%    5720.010000  5722.810000  5719.950000  5720.410000      1.068407   \nmax    5728.990000  5729.000000  5728.990000  5729.000000     44.402299   \n\n       Volume_(Currency)  Weighted_Price  \ncount          61.000000       61.000000  \nmean        10285.950059     5711.197041  \nstd         33350.541325        9.798496  \nmin            45.090203     5690.880000  \n25%           486.929798     5703.873513  \n50%          1754.230240     5709.005356  \n75%          6111.485975     5720.186975  \nmax        253201.252480     5728.992486  "
          },
          "metadata": {}
        }
      ]
    },
    {
      "metadata": {
        "trusted": true
      },
      "cell_type": "code",
      "source": "df.hist()",
      "execution_count": 24,
      "outputs": [
        {
          "output_type": "execute_result",
          "execution_count": 24,
          "data": {
            "text/plain": "array([[<matplotlib.axes._subplots.AxesSubplot object at 0x7f0ace9be940>,\n        <matplotlib.axes._subplots.AxesSubplot object at 0x7f0ace90bc18>,\n        <matplotlib.axes._subplots.AxesSubplot object at 0x7f0ace93d080>],\n       [<matplotlib.axes._subplots.AxesSubplot object at 0x7f0ace8e55c0>,\n        <matplotlib.axes._subplots.AxesSubplot object at 0x7f0ace88cb38>,\n        <matplotlib.axes._subplots.AxesSubplot object at 0x7f0ace8bc0f0>],\n       [<matplotlib.axes._subplots.AxesSubplot object at 0x7f0ace863668>,\n        <matplotlib.axes._subplots.AxesSubplot object at 0x7f0ace5c9c18>,\n        <matplotlib.axes._subplots.AxesSubplot object at 0x7f0ace5c9c50>]],\n      dtype=object)"
          },
          "metadata": {}
        },
        {
          "output_type": "display_data",
          "data": {
            "image/png": "[encoded data removed]",
            "text/plain": "<Figure size 432x288 with 9 Axes>"
          },
          "metadata": {
            "needs_background": "light"
          }
        }
      ]
    },
    {
      "metadata": {
        "trusted": true
      },
      "cell_type": "code",
      "source": "df.plot()",
      "execution_count": 25,
      "outputs": [
        {
          "output_type": "execute_result",
          "execution_count": 25,
          "data": {
            "text/plain": "<matplotlib.axes._subplots.AxesSubplot at 0x7f0ace56e128>"
          },
          "metadata": {}
        },
        {
          "output_type": "display_data",
          "data": {
            "image/png": "[encoded data removed]",
            "text/plain": "<Figure size 432x288 with 1 Axes>"
          },
          "metadata": {
            "needs_background": "light"
          }
        }
      ]
    }
  ],
  "metadata": {
    "kernelspec": {
      "name": "python36",
      "display_name": "Python 3.6",
      "language": "python"
    },
    "language_info": {
      "mimetype": "text/x-python",
      "nbconvert_exporter": "python",
      "name": "python",
      "pygments_lexer": "ipython3",
      "version": "3.6.6",
      "file_extension": ".py",
      "codemirror_mode": {
        "version": 3,
        "name": "ipython"
      }
    }
  },
  "nbformat": 4,
  "nbformat_minor": 2
}