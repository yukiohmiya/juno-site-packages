{
 "cells": [
  {
   "cell_type": "code",
   "execution_count": 1,
   "metadata": {},
   "outputs": [],
   "source": [
    "#ライブラリのインポート\n",
    "import pandas as pd \n",
    "import numpy as np \n",
    "import matplotlib.pyplot as plt\n",
    "%matplotlib inline \n",
    "\n",
    "#ファイルの読み込み\n",
    "train = pd.read_csv(\"Kaggle/titanic/data/train.csv\")\n",
    "test = pd.read_csv(\"Kaggle/titanic/data/test.csv\")"
   ]
  },
  {
   "cell_type": "code",
   "execution_count": 2,
   "metadata": {},
   "outputs": [],
   "source": [
    "full_data = [train,test]\n",
    " \n",
    "for i,dataset in enumerate(full_data):\n",
    "    #欠損値の処理\n",
    "    dataset[\"Embarked\"] = dataset[\"Embarked\"].fillna(\"S\")\n",
    "    dataset[\"Fare\"] = dataset[\"Fare\"].fillna(train[\"Fare\"].median())\n",
    "    dataset[\"Age\"] = dataset[\"Age\"].fillna(train[\"Age\"].median())\n",
    "    \n",
    "    #カテゴリ変数の処理\n",
    "    dataset = pd.get_dummies(dataset,columns=[\"Embarked\"])\n",
    "    dataset[\"Sex\"] = dataset[\"Sex\"].map({\"male\":0,\"female\":1})\n",
    "    \n",
    "    if i==0:\n",
    "        train = dataset\n",
    "    else:\n",
    "        test = dataset   "
   ]
  },
  {
   "cell_type": "code",
   "execution_count": 3,
   "metadata": {},
   "outputs": [],
   "source": [
    "#不要なカラムの削除\n",
    "train = train.drop([\"PassengerId\",\"Name\",\"Ticket\",\"Cabin\"],axis=1)\n",
    "test = test.drop([\"PassengerId\",\"Name\",\"Ticket\",\"Cabin\"],axis=1)"
   ]
  },
  {
   "cell_type": "code",
   "execution_count": 4,
   "metadata": {},
   "outputs": [],
   "source": [
    "X_set = train.iloc[:,1:]\n",
    "y_set = train[\"Survived\"].copy()"
   ]
  },
  {
   "cell_type": "code",
   "execution_count": 5,
   "metadata": {},
   "outputs": [
    {
     "name": "stdout",
     "output_type": "stream",
     "text": [
      "[0.8111111111111111, 0.8202247191011236, 0.8314606741573034, 0.898876404494382, 0.7415730337078652, 0.797752808988764, 0.7752808988764045, 0.8539325842696629, 0.8764044943820225, 0.797752808988764]\n",
      "mean : 0.8204369538077405\n",
      "CPU times: user 890 ms, sys: 47.2 ms, total: 937 ms\n",
      "Wall time: 941 ms\n"
     ]
    }
   ],
   "source": [
    "%%time\n",
    "#モデル評価のためのライブラリ\n",
    "from sklearn.model_selection import StratifiedKFold\n",
    "from sklearn.metrics import accuracy_score\n",
    "\n",
    "import xgboost as xgb\n",
    "from xgboost import XGBClassifier\n",
    " \n",
    "kf = StratifiedKFold(n_splits=10,shuffle=True,random_state=1)\n",
    " \n",
    "xgb_scores = []\n",
    "for i,(train_index,test_index) in enumerate(kf.split(X_set,y_set)):\n",
    "    X_cv_train = X_set.iloc[train_index]\n",
    "    X_cv_test = X_set.iloc[test_index]\n",
    "    y_cv_train = y_set[train_index]\n",
    "    y_cv_test = y_set[test_index]\n",
    "    \n",
    "    clf = xgb.XGBClassifier(random_state=1)\n",
    "    \n",
    "    clf.fit(X_cv_train,y_cv_train)\n",
    " \n",
    "    y_cv_pred = clf.predict(X_cv_test)\n",
    "    \n",
    "    acc_score = accuracy_score(y_cv_test,y_cv_pred)\n",
    "    \n",
    "    xgb_scores.append(acc_score)\n",
    "print(xgb_scores)\n",
    "print(\"mean : {}\".format(np.mean(xgb_scores)))"
   ]
  },
  {
   "cell_type": "code",
   "execution_count": 6,
   "metadata": {},
   "outputs": [
    {
     "name": "stdout",
     "output_type": "stream",
     "text": [
      "[0.7888888888888889, 0.7865168539325843, 0.8426966292134831, 0.898876404494382, 0.7640449438202247, 0.797752808988764, 0.7865168539325843, 0.8314606741573034, 0.8651685393258427, 0.8202247191011236]\n",
      "mean : 0.818214731585518\n",
      "CPU times: user 2.23 s, sys: 3.93 ms, total: 2.23 s\n",
      "Wall time: 2.23 s\n"
     ]
    }
   ],
   "source": [
    "%%time\n",
    "#ランダムフォレスト\n",
    "from sklearn.ensemble import RandomForestClassifier\n",
    "\n",
    "#10分割交差検証を指定\n",
    "kf = StratifiedKFold(n_splits=10,shuffle=True,random_state=1)\n",
    "\n",
    "#交差検証の各スコアを入れる箱\n",
    "rf_scores = []\n",
    "\n",
    "for i,(train_index,test_index) in enumerate(kf.split(X_set,y_set)):\n",
    "    X_cv_train = X_set.iloc[train_index]\n",
    "    X_cv_test = X_set.iloc[test_index]\n",
    "    y_cv_train = y_set[train_index]\n",
    "    y_cv_test = y_set[test_index]\n",
    "    \n",
    "    clf = RandomForestClassifier(random_state=1)\n",
    "    clf.fit(X_cv_train,y_cv_train)\n",
    "\n",
    "    y_cv_pred = clf.predict(X_cv_test)\n",
    "\n",
    "    acc = accuracy_score(y_cv_test,y_cv_pred)\n",
    "\n",
    "    rf_scores.append(acc)\n",
    "\n",
    "print(rf_scores)\n",
    "print(\"mean : {}\".format(np.mean(rf_scores)))"
   ]
  },
  {
   "cell_type": "code",
   "execution_count": 7,
   "metadata": {},
   "outputs": [
    {
     "name": "stdout",
     "output_type": "stream",
     "text": [
      "[0.8333333333333334, 0.7865168539325843, 0.8426966292134831, 0.9101123595505618, 0.797752808988764, 0.797752808988764, 0.7752808988764045, 0.8202247191011236, 0.8764044943820225, 0.7752808988764045]\n",
      "mean : 0.8215355805243446\n",
      "CPU times: user 766 ms, sys: 36.1 ms, total: 802 ms\n",
      "Wall time: 802 ms\n"
     ]
    }
   ],
   "source": [
    "%%time\n",
    "import lightgbm as gbm\n",
    "\n",
    "kf = StratifiedKFold(n_splits=10,shuffle=True,random_state=1)\n",
    "\n",
    "gbm_scores = []\n",
    "\n",
    "for i,(train_index,test_index) in enumerate(kf.split(X_set,y_set)):\n",
    "    X_cv_train = X_set.iloc[train_index]\n",
    "    X_cv_test = X_set.iloc[test_index]\n",
    "    y_cv_train = y_set[train_index]\n",
    "    y_cv_test = y_set[test_index]\n",
    "    \n",
    "    clf = gbm.LGBMClassifier(random_state=1)\n",
    "    \n",
    "    clf.fit(X_cv_train,y_cv_train)\n",
    "\n",
    "    y_cv_pred = clf.predict(X_cv_test)\n",
    "    \n",
    "    acc_score = accuracy_score(y_cv_test,y_cv_pred)\n",
    "    \n",
    "    gbm_scores.append(acc_score)\n",
    "print(gbm_scores)\n",
    "print(\"mean : {}\".format(np.mean(gbm_scores)))"
   ]
  }
 ],
 "metadata": {
  "kernelspec": {
   "display_name": "Python 3",
   "language": "python",
   "name": "python3"
  },
  "language_info": {
   "codemirror_mode": {
    "name": "ipython",
    "version": 3
   },
   "file_extension": ".py",
   "mimetype": "text/x-python",
   "name": "python",
   "nbconvert_exporter": "python",
   "pygments_lexer": "ipython3",
   "version": "3.7.5"
  }
 },
 "nbformat": 4,
 "nbformat_minor": 4
}
