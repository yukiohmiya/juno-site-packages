{
 "cells": [
  {
   "cell_type": "markdown",
   "metadata": {},
   "source": [
    "# SGDを用いたクラス分類\n",
    "\n",
    "START→データが50以上→カテゴリーデータ→ラベルありデータ→データ数10万以上→「SGD」\n",
    "\n",
    "## 問題設定\n",
    "１７８本のワインのデータ(色、プロリン)を使用して、未知のワインが３つのブドウ品種のどれから作られたかを識別する.\n",
    "\n",
    "## データ\n",
    "1. ラベル：0, 1, 2（ブドウの品種）\n",
    "2. データ：178（ワインの数）\n",
    "3. 変数1：ワインの色\n",
    "4. 変数2：ワインに含まれるプロリンの量\n",
    "\n",
    "## 元ネタ\n",
    "<http://neuro-educator.com/mlearn1/>\n",
    "<http://scikit-learn.org/stable/modules/sgd.html#classification>\n",
    "<http://scikit-learn.org/stable/modules/generated/sklearn.linear_model.SGDClassifier.html#sklearn.linear_model.SGDClassifier>"
   ]
  },
  {
   "cell_type": "markdown",
   "metadata": {},
   "source": [
    "The attributes are (dontated by Riccardo Leardi,  riclea@anchem.unige.it )\n",
    "\n",
    "0. Kind of grape\n",
    "1. Alcohol\n",
    "2. Malic acid\n",
    "3. Ash\n",
    "4. Alcalinity of ash  \n",
    "5. Magnesium\n",
    "6. Total phenols\n",
    "7. Flavanoids\n",
    "8. Nonflavanoid phenols\n",
    "9. Proanthocyanins\n",
    "10. Color intensity\n",
    "11. Hue\n",
    "12. OD280/OD315 of diluted wines\n",
    "13. Proline            "
   ]
  },
  {
   "cell_type": "code",
   "execution_count": 1,
   "metadata": {},
   "outputs": [],
   "source": [
    "# 解説 1：ライブラリのインポート--------------------------------\n",
    "import numpy as np\n",
    "import pandas as pd\n",
    "import matplotlib.pyplot as plt\n",
    "# 機械学習用のライブラリを利用\n",
    "from sklearn import linear_model, metrics, preprocessing, model_selection\n",
    "# 学習結果をプロットする外部ライブラリを利用\n",
    "from mlxtend.plotting import plot_decision_regions "
   ]
  },
  {
   "cell_type": "code",
   "execution_count": 2,
   "metadata": {},
   "outputs": [],
   "source": [
    "%matplotlib inline"
   ]
  },
  {
   "cell_type": "code",
   "execution_count": 3,
   "metadata": {},
   "outputs": [],
   "source": [
    "# 解説 2：Wineのデータセットを読み込む--------------------------------\n",
    "df_wine_all = pd.read_csv(\n",
    "    'https://archive.ics.uci.edu/ml/machine-learning-databases/wine/wine.data', \n",
    "    header=None)"
   ]
  },
  {
   "cell_type": "code",
   "execution_count": 4,
   "metadata": {},
   "outputs": [
    {
     "data": {
      "text/html": [
       "<div>\n",
       "<style scoped>\n",
       "    .dataframe tbody tr th:only-of-type {\n",
       "        vertical-align: middle;\n",
       "    }\n",
       "\n",
       "    .dataframe tbody tr th {\n",
       "        vertical-align: top;\n",
       "    }\n",
       "\n",
       "    .dataframe thead th {\n",
       "        text-align: right;\n",
       "    }\n",
       "</style>\n",
       "<table border=\"1\" class=\"dataframe\">\n",
       "  <thead>\n",
       "    <tr style=\"text-align: right;\">\n",
       "      <th></th>\n",
       "      <th>0</th>\n",
       "      <th>1</th>\n",
       "      <th>2</th>\n",
       "      <th>3</th>\n",
       "      <th>4</th>\n",
       "      <th>5</th>\n",
       "      <th>6</th>\n",
       "      <th>7</th>\n",
       "      <th>8</th>\n",
       "      <th>9</th>\n",
       "      <th>10</th>\n",
       "      <th>11</th>\n",
       "      <th>12</th>\n",
       "      <th>13</th>\n",
       "    </tr>\n",
       "  </thead>\n",
       "  <tbody>\n",
       "    <tr>\n",
       "      <th>0</th>\n",
       "      <td>1</td>\n",
       "      <td>14.23</td>\n",
       "      <td>1.71</td>\n",
       "      <td>2.43</td>\n",
       "      <td>15.6</td>\n",
       "      <td>127</td>\n",
       "      <td>2.80</td>\n",
       "      <td>3.06</td>\n",
       "      <td>0.28</td>\n",
       "      <td>2.29</td>\n",
       "      <td>5.64</td>\n",
       "      <td>1.04</td>\n",
       "      <td>3.92</td>\n",
       "      <td>1065</td>\n",
       "    </tr>\n",
       "    <tr>\n",
       "      <th>1</th>\n",
       "      <td>1</td>\n",
       "      <td>13.20</td>\n",
       "      <td>1.78</td>\n",
       "      <td>2.14</td>\n",
       "      <td>11.2</td>\n",
       "      <td>100</td>\n",
       "      <td>2.65</td>\n",
       "      <td>2.76</td>\n",
       "      <td>0.26</td>\n",
       "      <td>1.28</td>\n",
       "      <td>4.38</td>\n",
       "      <td>1.05</td>\n",
       "      <td>3.40</td>\n",
       "      <td>1050</td>\n",
       "    </tr>\n",
       "    <tr>\n",
       "      <th>2</th>\n",
       "      <td>1</td>\n",
       "      <td>13.16</td>\n",
       "      <td>2.36</td>\n",
       "      <td>2.67</td>\n",
       "      <td>18.6</td>\n",
       "      <td>101</td>\n",
       "      <td>2.80</td>\n",
       "      <td>3.24</td>\n",
       "      <td>0.30</td>\n",
       "      <td>2.81</td>\n",
       "      <td>5.68</td>\n",
       "      <td>1.03</td>\n",
       "      <td>3.17</td>\n",
       "      <td>1185</td>\n",
       "    </tr>\n",
       "    <tr>\n",
       "      <th>3</th>\n",
       "      <td>1</td>\n",
       "      <td>14.37</td>\n",
       "      <td>1.95</td>\n",
       "      <td>2.50</td>\n",
       "      <td>16.8</td>\n",
       "      <td>113</td>\n",
       "      <td>3.85</td>\n",
       "      <td>3.49</td>\n",
       "      <td>0.24</td>\n",
       "      <td>2.18</td>\n",
       "      <td>7.80</td>\n",
       "      <td>0.86</td>\n",
       "      <td>3.45</td>\n",
       "      <td>1480</td>\n",
       "    </tr>\n",
       "    <tr>\n",
       "      <th>4</th>\n",
       "      <td>1</td>\n",
       "      <td>13.24</td>\n",
       "      <td>2.59</td>\n",
       "      <td>2.87</td>\n",
       "      <td>21.0</td>\n",
       "      <td>118</td>\n",
       "      <td>2.80</td>\n",
       "      <td>2.69</td>\n",
       "      <td>0.39</td>\n",
       "      <td>1.82</td>\n",
       "      <td>4.32</td>\n",
       "      <td>1.04</td>\n",
       "      <td>2.93</td>\n",
       "      <td>735</td>\n",
       "    </tr>\n",
       "  </tbody>\n",
       "</table>\n",
       "</div>"
      ],
      "text/plain": [
       "   0      1     2     3     4    5     6     7     8     9     10    11    12  \\\n",
       "0   1  14.23  1.71  2.43  15.6  127  2.80  3.06  0.28  2.29  5.64  1.04  3.92   \n",
       "1   1  13.20  1.78  2.14  11.2  100  2.65  2.76  0.26  1.28  4.38  1.05  3.40   \n",
       "2   1  13.16  2.36  2.67  18.6  101  2.80  3.24  0.30  2.81  5.68  1.03  3.17   \n",
       "3   1  14.37  1.95  2.50  16.8  113  3.85  3.49  0.24  2.18  7.80  0.86  3.45   \n",
       "4   1  13.24  2.59  2.87  21.0  118  2.80  2.69  0.39  1.82  4.32  1.04  2.93   \n",
       "\n",
       "     13  \n",
       "0  1065  \n",
       "1  1050  \n",
       "2  1185  \n",
       "3  1480  \n",
       "4   735  "
      ]
     },
     "execution_count": 4,
     "metadata": {},
     "output_type": "execute_result"
    }
   ],
   "source": [
    "df_wine_all.head()"
   ]
  },
  {
   "cell_type": "code",
   "execution_count": 5,
   "metadata": {},
   "outputs": [
    {
     "data": {
      "text/html": [
       "<div>\n",
       "<style scoped>\n",
       "    .dataframe tbody tr th:only-of-type {\n",
       "        vertical-align: middle;\n",
       "    }\n",
       "\n",
       "    .dataframe tbody tr th {\n",
       "        vertical-align: top;\n",
       "    }\n",
       "\n",
       "    .dataframe thead th {\n",
       "        text-align: right;\n",
       "    }\n",
       "</style>\n",
       "<table border=\"1\" class=\"dataframe\">\n",
       "  <thead>\n",
       "    <tr style=\"text-align: right;\">\n",
       "      <th></th>\n",
       "      <th>0</th>\n",
       "      <th>1</th>\n",
       "      <th>2</th>\n",
       "      <th>3</th>\n",
       "      <th>4</th>\n",
       "      <th>5</th>\n",
       "      <th>6</th>\n",
       "      <th>7</th>\n",
       "      <th>8</th>\n",
       "      <th>9</th>\n",
       "      <th>10</th>\n",
       "      <th>11</th>\n",
       "      <th>12</th>\n",
       "      <th>13</th>\n",
       "    </tr>\n",
       "  </thead>\n",
       "  <tbody>\n",
       "    <tr>\n",
       "      <th>count</th>\n",
       "      <td>178.000000</td>\n",
       "      <td>178.000000</td>\n",
       "      <td>178.000000</td>\n",
       "      <td>178.000000</td>\n",
       "      <td>178.000000</td>\n",
       "      <td>178.000000</td>\n",
       "      <td>178.000000</td>\n",
       "      <td>178.000000</td>\n",
       "      <td>178.000000</td>\n",
       "      <td>178.000000</td>\n",
       "      <td>178.000000</td>\n",
       "      <td>178.000000</td>\n",
       "      <td>178.000000</td>\n",
       "      <td>178.000000</td>\n",
       "    </tr>\n",
       "    <tr>\n",
       "      <th>mean</th>\n",
       "      <td>1.938202</td>\n",
       "      <td>13.000618</td>\n",
       "      <td>2.336348</td>\n",
       "      <td>2.366517</td>\n",
       "      <td>19.494944</td>\n",
       "      <td>99.741573</td>\n",
       "      <td>2.295112</td>\n",
       "      <td>2.029270</td>\n",
       "      <td>0.361854</td>\n",
       "      <td>1.590899</td>\n",
       "      <td>5.058090</td>\n",
       "      <td>0.957449</td>\n",
       "      <td>2.611685</td>\n",
       "      <td>746.893258</td>\n",
       "    </tr>\n",
       "    <tr>\n",
       "      <th>std</th>\n",
       "      <td>0.775035</td>\n",
       "      <td>0.811827</td>\n",
       "      <td>1.117146</td>\n",
       "      <td>0.274344</td>\n",
       "      <td>3.339564</td>\n",
       "      <td>14.282484</td>\n",
       "      <td>0.625851</td>\n",
       "      <td>0.998859</td>\n",
       "      <td>0.124453</td>\n",
       "      <td>0.572359</td>\n",
       "      <td>2.318286</td>\n",
       "      <td>0.228572</td>\n",
       "      <td>0.709990</td>\n",
       "      <td>314.907474</td>\n",
       "    </tr>\n",
       "    <tr>\n",
       "      <th>min</th>\n",
       "      <td>1.000000</td>\n",
       "      <td>11.030000</td>\n",
       "      <td>0.740000</td>\n",
       "      <td>1.360000</td>\n",
       "      <td>10.600000</td>\n",
       "      <td>70.000000</td>\n",
       "      <td>0.980000</td>\n",
       "      <td>0.340000</td>\n",
       "      <td>0.130000</td>\n",
       "      <td>0.410000</td>\n",
       "      <td>1.280000</td>\n",
       "      <td>0.480000</td>\n",
       "      <td>1.270000</td>\n",
       "      <td>278.000000</td>\n",
       "    </tr>\n",
       "    <tr>\n",
       "      <th>25%</th>\n",
       "      <td>1.000000</td>\n",
       "      <td>12.362500</td>\n",
       "      <td>1.602500</td>\n",
       "      <td>2.210000</td>\n",
       "      <td>17.200000</td>\n",
       "      <td>88.000000</td>\n",
       "      <td>1.742500</td>\n",
       "      <td>1.205000</td>\n",
       "      <td>0.270000</td>\n",
       "      <td>1.250000</td>\n",
       "      <td>3.220000</td>\n",
       "      <td>0.782500</td>\n",
       "      <td>1.937500</td>\n",
       "      <td>500.500000</td>\n",
       "    </tr>\n",
       "    <tr>\n",
       "      <th>50%</th>\n",
       "      <td>2.000000</td>\n",
       "      <td>13.050000</td>\n",
       "      <td>1.865000</td>\n",
       "      <td>2.360000</td>\n",
       "      <td>19.500000</td>\n",
       "      <td>98.000000</td>\n",
       "      <td>2.355000</td>\n",
       "      <td>2.135000</td>\n",
       "      <td>0.340000</td>\n",
       "      <td>1.555000</td>\n",
       "      <td>4.690000</td>\n",
       "      <td>0.965000</td>\n",
       "      <td>2.780000</td>\n",
       "      <td>673.500000</td>\n",
       "    </tr>\n",
       "    <tr>\n",
       "      <th>75%</th>\n",
       "      <td>3.000000</td>\n",
       "      <td>13.677500</td>\n",
       "      <td>3.082500</td>\n",
       "      <td>2.557500</td>\n",
       "      <td>21.500000</td>\n",
       "      <td>107.000000</td>\n",
       "      <td>2.800000</td>\n",
       "      <td>2.875000</td>\n",
       "      <td>0.437500</td>\n",
       "      <td>1.950000</td>\n",
       "      <td>6.200000</td>\n",
       "      <td>1.120000</td>\n",
       "      <td>3.170000</td>\n",
       "      <td>985.000000</td>\n",
       "    </tr>\n",
       "    <tr>\n",
       "      <th>max</th>\n",
       "      <td>3.000000</td>\n",
       "      <td>14.830000</td>\n",
       "      <td>5.800000</td>\n",
       "      <td>3.230000</td>\n",
       "      <td>30.000000</td>\n",
       "      <td>162.000000</td>\n",
       "      <td>3.880000</td>\n",
       "      <td>5.080000</td>\n",
       "      <td>0.660000</td>\n",
       "      <td>3.580000</td>\n",
       "      <td>13.000000</td>\n",
       "      <td>1.710000</td>\n",
       "      <td>4.000000</td>\n",
       "      <td>1680.000000</td>\n",
       "    </tr>\n",
       "  </tbody>\n",
       "</table>\n",
       "</div>"
      ],
      "text/plain": [
       "               0           1           2           3           4           5   \\\n",
       "count  178.000000  178.000000  178.000000  178.000000  178.000000  178.000000   \n",
       "mean     1.938202   13.000618    2.336348    2.366517   19.494944   99.741573   \n",
       "std      0.775035    0.811827    1.117146    0.274344    3.339564   14.282484   \n",
       "min      1.000000   11.030000    0.740000    1.360000   10.600000   70.000000   \n",
       "25%      1.000000   12.362500    1.602500    2.210000   17.200000   88.000000   \n",
       "50%      2.000000   13.050000    1.865000    2.360000   19.500000   98.000000   \n",
       "75%      3.000000   13.677500    3.082500    2.557500   21.500000  107.000000   \n",
       "max      3.000000   14.830000    5.800000    3.230000   30.000000  162.000000   \n",
       "\n",
       "               6           7           8           9           10          11  \\\n",
       "count  178.000000  178.000000  178.000000  178.000000  178.000000  178.000000   \n",
       "mean     2.295112    2.029270    0.361854    1.590899    5.058090    0.957449   \n",
       "std      0.625851    0.998859    0.124453    0.572359    2.318286    0.228572   \n",
       "min      0.980000    0.340000    0.130000    0.410000    1.280000    0.480000   \n",
       "25%      1.742500    1.205000    0.270000    1.250000    3.220000    0.782500   \n",
       "50%      2.355000    2.135000    0.340000    1.555000    4.690000    0.965000   \n",
       "75%      2.800000    2.875000    0.437500    1.950000    6.200000    1.120000   \n",
       "max      3.880000    5.080000    0.660000    3.580000   13.000000    1.710000   \n",
       "\n",
       "               12           13  \n",
       "count  178.000000   178.000000  \n",
       "mean     2.611685   746.893258  \n",
       "std      0.709990   314.907474  \n",
       "min      1.270000   278.000000  \n",
       "25%      1.937500   500.500000  \n",
       "50%      2.780000   673.500000  \n",
       "75%      3.170000   985.000000  \n",
       "max      4.000000  1680.000000  "
      ]
     },
     "execution_count": 5,
     "metadata": {},
     "output_type": "execute_result"
    }
   ],
   "source": [
    "df_wine_all.describe()"
   ]
  },
  {
   "cell_type": "code",
   "execution_count": 6,
   "metadata": {},
   "outputs": [
    {
     "data": {
      "text/html": [
       "<div>\n",
       "<style scoped>\n",
       "    .dataframe tbody tr th:only-of-type {\n",
       "        vertical-align: middle;\n",
       "    }\n",
       "\n",
       "    .dataframe tbody tr th {\n",
       "        vertical-align: top;\n",
       "    }\n",
       "\n",
       "    .dataframe thead th {\n",
       "        text-align: right;\n",
       "    }\n",
       "</style>\n",
       "<table border=\"1\" class=\"dataframe\">\n",
       "  <thead>\n",
       "    <tr style=\"text-align: right;\">\n",
       "      <th></th>\n",
       "      <th>class</th>\n",
       "      <th>color</th>\n",
       "      <th>proline</th>\n",
       "    </tr>\n",
       "  </thead>\n",
       "  <tbody>\n",
       "    <tr>\n",
       "      <th>0</th>\n",
       "      <td>1</td>\n",
       "      <td>5.64</td>\n",
       "      <td>1065</td>\n",
       "    </tr>\n",
       "    <tr>\n",
       "      <th>1</th>\n",
       "      <td>1</td>\n",
       "      <td>4.38</td>\n",
       "      <td>1050</td>\n",
       "    </tr>\n",
       "    <tr>\n",
       "      <th>2</th>\n",
       "      <td>1</td>\n",
       "      <td>5.68</td>\n",
       "      <td>1185</td>\n",
       "    </tr>\n",
       "    <tr>\n",
       "      <th>3</th>\n",
       "      <td>1</td>\n",
       "      <td>7.80</td>\n",
       "      <td>1480</td>\n",
       "    </tr>\n",
       "    <tr>\n",
       "      <th>4</th>\n",
       "      <td>1</td>\n",
       "      <td>4.32</td>\n",
       "      <td>735</td>\n",
       "    </tr>\n",
       "    <tr>\n",
       "      <th>...</th>\n",
       "      <td>...</td>\n",
       "      <td>...</td>\n",
       "      <td>...</td>\n",
       "    </tr>\n",
       "    <tr>\n",
       "      <th>173</th>\n",
       "      <td>3</td>\n",
       "      <td>7.70</td>\n",
       "      <td>740</td>\n",
       "    </tr>\n",
       "    <tr>\n",
       "      <th>174</th>\n",
       "      <td>3</td>\n",
       "      <td>7.30</td>\n",
       "      <td>750</td>\n",
       "    </tr>\n",
       "    <tr>\n",
       "      <th>175</th>\n",
       "      <td>3</td>\n",
       "      <td>10.20</td>\n",
       "      <td>835</td>\n",
       "    </tr>\n",
       "    <tr>\n",
       "      <th>176</th>\n",
       "      <td>3</td>\n",
       "      <td>9.30</td>\n",
       "      <td>840</td>\n",
       "    </tr>\n",
       "    <tr>\n",
       "      <th>177</th>\n",
       "      <td>3</td>\n",
       "      <td>9.20</td>\n",
       "      <td>560</td>\n",
       "    </tr>\n",
       "  </tbody>\n",
       "</table>\n",
       "<p>178 rows × 3 columns</p>\n",
       "</div>"
      ],
      "text/plain": [
       "     class  color  proline\n",
       "0        1   5.64     1065\n",
       "1        1   4.38     1050\n",
       "2        1   5.68     1185\n",
       "3        1   7.80     1480\n",
       "4        1   4.32      735\n",
       "..     ...    ...      ...\n",
       "173      3   7.70      740\n",
       "174      3   7.30      750\n",
       "175      3  10.20      835\n",
       "176      3   9.30      840\n",
       "177      3   9.20      560\n",
       "\n",
       "[178 rows x 3 columns]"
      ]
     },
     "execution_count": 6,
     "metadata": {},
     "output_type": "execute_result"
    }
   ],
   "source": [
    "# 品種(0列、1～3)と色（10列）とプロリンの量(13列)を使用する\n",
    "df_wine=df_wine_all[[0, 10, 13]]\n",
    "df_wine.columns = ['class', 'color', 'proline']\n",
    "df_wine"
   ]
  },
  {
   "cell_type": "code",
   "execution_count": 7,
   "metadata": {},
   "outputs": [
    {
     "data": {
      "text/html": [
       "<div>\n",
       "<style scoped>\n",
       "    .dataframe tbody tr th:only-of-type {\n",
       "        vertical-align: middle;\n",
       "    }\n",
       "\n",
       "    .dataframe tbody tr th {\n",
       "        vertical-align: top;\n",
       "    }\n",
       "\n",
       "    .dataframe thead th {\n",
       "        text-align: right;\n",
       "    }\n",
       "</style>\n",
       "<table border=\"1\" class=\"dataframe\">\n",
       "  <thead>\n",
       "    <tr style=\"text-align: right;\">\n",
       "      <th></th>\n",
       "      <th>class</th>\n",
       "      <th>color</th>\n",
       "      <th>proline</th>\n",
       "    </tr>\n",
       "  </thead>\n",
       "  <tbody>\n",
       "    <tr>\n",
       "      <th>count</th>\n",
       "      <td>178.000000</td>\n",
       "      <td>178.000000</td>\n",
       "      <td>178.000000</td>\n",
       "    </tr>\n",
       "    <tr>\n",
       "      <th>mean</th>\n",
       "      <td>1.938202</td>\n",
       "      <td>5.058090</td>\n",
       "      <td>746.893258</td>\n",
       "    </tr>\n",
       "    <tr>\n",
       "      <th>std</th>\n",
       "      <td>0.775035</td>\n",
       "      <td>2.318286</td>\n",
       "      <td>314.907474</td>\n",
       "    </tr>\n",
       "    <tr>\n",
       "      <th>min</th>\n",
       "      <td>1.000000</td>\n",
       "      <td>1.280000</td>\n",
       "      <td>278.000000</td>\n",
       "    </tr>\n",
       "    <tr>\n",
       "      <th>25%</th>\n",
       "      <td>1.000000</td>\n",
       "      <td>3.220000</td>\n",
       "      <td>500.500000</td>\n",
       "    </tr>\n",
       "    <tr>\n",
       "      <th>50%</th>\n",
       "      <td>2.000000</td>\n",
       "      <td>4.690000</td>\n",
       "      <td>673.500000</td>\n",
       "    </tr>\n",
       "    <tr>\n",
       "      <th>75%</th>\n",
       "      <td>3.000000</td>\n",
       "      <td>6.200000</td>\n",
       "      <td>985.000000</td>\n",
       "    </tr>\n",
       "    <tr>\n",
       "      <th>max</th>\n",
       "      <td>3.000000</td>\n",
       "      <td>13.000000</td>\n",
       "      <td>1680.000000</td>\n",
       "    </tr>\n",
       "  </tbody>\n",
       "</table>\n",
       "</div>"
      ],
      "text/plain": [
       "            class       color      proline\n",
       "count  178.000000  178.000000   178.000000\n",
       "mean     1.938202    5.058090   746.893258\n",
       "std      0.775035    2.318286   314.907474\n",
       "min      1.000000    1.280000   278.000000\n",
       "25%      1.000000    3.220000   500.500000\n",
       "50%      2.000000    4.690000   673.500000\n",
       "75%      3.000000    6.200000   985.000000\n",
       "max      3.000000   13.000000  1680.000000"
      ]
     },
     "execution_count": 7,
     "metadata": {},
     "output_type": "execute_result"
    }
   ],
   "source": [
    "df_wine.describe()"
   ]
  },
  {
   "cell_type": "code",
   "execution_count": 8,
   "metadata": {},
   "outputs": [
    {
     "data": {
      "text/plain": [
       "<matplotlib.collections.PathCollection at 0x1210dd490>"
      ]
     },
     "execution_count": 8,
     "metadata": {},
     "output_type": "execute_result"
    },
    {
     "data": {
      "image/png": "[encoded data removed]",
      "text/plain": [
       "<Figure size 432x288 with 1 Axes>"
      ]
     },
     "metadata": {
      "needs_background": "light"
     },
     "output_type": "display_data"
    }
   ],
   "source": [
    "# 解説 3：プロットしてみる------------------------------------------------------\n",
    "x = df_wine[\"color\"]\n",
    "y = df_wine[\"proline\"]\n",
    "z = df_wine[\"class\"] - 1\n",
    "plt.scatter(x, y, c=z)"
   ]
  },
  {
   "cell_type": "code",
   "execution_count": 9,
   "metadata": {},
   "outputs": [
    {
     "data": {
      "text/plain": [
       "(178, 2)"
      ]
     },
     "execution_count": 9,
     "metadata": {},
     "output_type": "execute_result"
    }
   ],
   "source": [
    "# 解説 4：データの整形-------------------------------------------------------\n",
    "# データの正規化\n",
    "X = df_wine[[\"color\", \"proline\"]]\n",
    "sc = preprocessing.StandardScaler()\n",
    "sc.fit(X)\n",
    "X_std = sc.transform(X)\n",
    "X_std.shape"
   ]
  },
  {
   "cell_type": "code",
   "execution_count": 10,
   "metadata": {},
   "outputs": [
    {
     "data": {
      "text/plain": [
       "array([[ 0.25171685,  1.01300893],\n",
       "       [-0.29332133,  0.96524152],\n",
       "       [ 0.26901965,  1.39514818],\n",
       "       [ 1.18606801,  2.33457383],\n",
       "       [-0.31927553, -0.03787401],\n",
       "       [ 0.73186953,  2.23903902],\n",
       "       [ 0.08301456,  1.72952002],\n",
       "       [-0.00349944,  1.74544249],\n",
       "       [ 0.06138606,  0.94931905],\n",
       "       [ 0.93517742,  0.94931905],\n",
       "       [ 0.29929955,  2.43010864],\n",
       "       [-0.02512794,  1.69767508],\n",
       "       [ 0.23441405,  1.82505483],\n",
       "       [ 0.14790005,  1.28369089],\n",
       "       [ 1.05629702,  2.54793491],\n",
       "       [ 0.96978302,  1.79320989],\n",
       "       [ 0.49395604,  1.69767508],\n",
       "       [ 0.66698403,  1.22000102],\n",
       "       [ 1.575381  ,  2.97147258],\n",
       "       [ 0.01812906,  0.3124203 ],\n",
       "       [ 0.25604255,  0.10542821],\n",
       "       [-0.24141293,  0.07358327],\n",
       "       [-0.54421192,  0.91747411],\n",
       "       [-0.48797782,  0.85378424],\n",
       "       [-0.66533151,  0.3124203 ],\n",
       "       [-0.63937732,  0.2646529 ],\n",
       "       [-0.11164194,  1.42699311],\n",
       "       [-0.47932642,  1.71359755],\n",
       "       [-0.24141293,  0.53533487],\n",
       "       [-0.15489893,  0.91747411],\n",
       "       [ 0.27767105,  1.71359755],\n",
       "       [ 0.79675503,  2.44603111],\n",
       "       [-0.52690912,  0.7741719 ],\n",
       "       [ 0.14790005,  1.55437286],\n",
       "       [-0.37118393,  1.10854374],\n",
       "       [ 0.01812906,  0.55125733],\n",
       "       [-0.19815593,  0.42387759],\n",
       "       [-0.34955543,  1.14038868],\n",
       "       [-0.58746892,  0.86970671],\n",
       "       [ 0.01812906,  0.04173834],\n",
       "       [ 0.46367614,  0.15319562],\n",
       "       [-0.33657833,  0.91747411],\n",
       "       [ 0.16087715,  1.10854374],\n",
       "       [-0.30197273, -0.21302116],\n",
       "       [-0.00782514,  0.43980005],\n",
       "       [ 0.07868886,  1.06077633],\n",
       "       [-0.06838494,  1.01300893],\n",
       "       [ 0.45069904,  0.75824943],\n",
       "       [ 0.49395604,  0.99708646],\n",
       "       [ 1.66189499,  1.63398521],\n",
       "       [ 0.92652602,  1.28369089],\n",
       "       [ 0.23441405,  1.64990767],\n",
       "       [ 0.86164053,  1.41107064],\n",
       "       [ 0.53721304,  2.00020199],\n",
       "       [ 0.34255655,  0.99708646],\n",
       "       [ 0.51558454,  1.18815608],\n",
       "       [ 0.57181864,  0.71048202],\n",
       "       [ 0.40744204,  1.66583014],\n",
       "       [ 0.75349803,  1.71359755],\n",
       "       [-1.34446639, -0.72254016],\n",
       "       [-0.77347401, -0.21302116],\n",
       "       [ 0.29929955, -0.94545472],\n",
       "       [-0.54421192, -0.37224585],\n",
       "       [-0.26304143, -1.04098953],\n",
       "       [-0.9118964 , -1.24798163],\n",
       "       [-0.19815593, -0.21939015],\n",
       "       [ 0.10464306, -0.77986105],\n",
       "       [-0.16355033, -0.7543851 ],\n",
       "       [-0.81673101,  0.0098934 ],\n",
       "       [-0.9551534 , -0.0920104 ],\n",
       "       [-0.86863941,  0.39203265],\n",
       "       [-0.72589131, -1.07283447],\n",
       "       [-0.57016612, -0.87539586],\n",
       "       [-0.73886841,  0.75824943],\n",
       "       [-0.79942821,  0.44298455],\n",
       "       [-0.54421192, -1.01551358],\n",
       "       [-0.19815593, -1.13015536],\n",
       "       [-1.0416674 , -0.78623004],\n",
       "       [-0.71723991,  0.0098934 ],\n",
       "       [-1.076273  , -0.9040563 ],\n",
       "       [-1.1065529 , -1.49318765],\n",
       "       [-0.50095492, -0.10474838],\n",
       "       [-1.23632389, -0.37224585],\n",
       "       [-0.11164194, -0.73846263],\n",
       "       [-0.86863941, -0.72254016],\n",
       "       [-1.0546445 , -0.94545472],\n",
       "       [-1.1281814 , -0.8021525 ],\n",
       "       [-1.0632959 , -0.58879142],\n",
       "       [-0.9767819 , -0.21302116],\n",
       "       [-1.43530608, -0.38816832],\n",
       "       [-1.14980989, -0.84991991],\n",
       "       [-0.63072592, -0.94545472],\n",
       "       [-0.86863941, -0.8021525 ],\n",
       "       [-1.25795239, -1.45497372],\n",
       "       [-0.78212541, -1.27982657],\n",
       "       [-1.0632959 ,  0.60539373],\n",
       "       [-1.1065529 , -0.38816832],\n",
       "       [-0.9335249 , -1.01551358],\n",
       "       [-0.24141293, -0.27671104],\n",
       "       [-1.19306689, -1.08557245],\n",
       "       [-0.76049691, -0.11748635],\n",
       "       [-1.1281814 , -0.58879142],\n",
       "       [-0.9767819 , -0.98366865],\n",
       "       [-1.29688369, -1.056912  ],\n",
       "       [-0.9162221 , -0.23849711],\n",
       "       [-1.0200389 , -1.37536138],\n",
       "       [-0.71723991, -0.7543851 ],\n",
       "       [-0.76049691, -0.82444396],\n",
       "       [-1.0200389 , -1.38491486],\n",
       "       [-1.0416674 , -0.21302116],\n",
       "       [-0.9335249 , -0.58879142],\n",
       "       [-1.32283789, -1.34351644],\n",
       "       [-0.54421192, -0.44548921],\n",
       "       [-0.85566231, -0.99640662],\n",
       "       [-0.9335249 , -1.15244682],\n",
       "       [-1.36609489, -1.08238795],\n",
       "       [-1.34446639, -0.8021525 ],\n",
       "       [-1.29688369, -1.27982657],\n",
       "       [-0.71723991, -1.19384523],\n",
       "       [-1.63428828, -0.58242244],\n",
       "       [-0.78212541, -0.38816832],\n",
       "       [ 0.40744204, -0.89768732],\n",
       "       [-1.28823229, -1.21613669],\n",
       "       [-1.0632959 , -1.16836928],\n",
       "       [-0.9767819 , -1.16836928],\n",
       "       [-0.9940847 , -1.17473827],\n",
       "       [-0.48365212, -1.25753511],\n",
       "       [-0.89026791, -0.89450282],\n",
       "       [-1.27092949, -1.28938005],\n",
       "       [-1.0632959 , -0.53147054],\n",
       "       [-0.41444092, -0.37224585],\n",
       "       [ 0.14790005, -0.69069522],\n",
       "       [ 0.27767105, -0.59516041],\n",
       "       [-0.02512794, -0.46778066],\n",
       "       [ 0.16952855, -0.30855597],\n",
       "       [ 0.88326902, -0.16525376],\n",
       "       [-0.52258342, -0.08564141],\n",
       "       [-0.02512794, -0.73846263],\n",
       "       [ 0.27767105, -0.53147054],\n",
       "       [-0.05973354, -0.4996256 ],\n",
       "       [-0.19815593, -0.46778066],\n",
       "       [ 0.23441405,  0.10542821],\n",
       "       [-0.30629843, -0.72254016],\n",
       "       [-0.28466993, -0.62700535],\n",
       "       [ 1.36342171,  0.34426524],\n",
       "       [-0.45769792,  0.2646529 ],\n",
       "       [-0.06838494, -1.056912  ],\n",
       "       [ 1.12118252, -0.38816832],\n",
       "       [ 1.4542614 , -0.30855597],\n",
       "       [ 1.87817999, -0.62700535],\n",
       "       [ 1.532124  , -0.78623004],\n",
       "       [ 2.48377796, -0.84991991],\n",
       "       [ 0.88326902, -1.02506707],\n",
       "       [ 2.36265837, -0.22894363],\n",
       "       [ 1.09955402, -0.34040091],\n",
       "       [ 1.22932501, -0.06971894],\n",
       "       [ 1.70947769, -0.84991991],\n",
       "       [ 1.05629702,  0.42387759],\n",
       "       [ 3.43543192, -0.27671104],\n",
       "       [ 2.89471945, -0.40409079],\n",
       "       [ 1.12118252, -0.72254016],\n",
       "       [ 0.35553365, -0.21302116],\n",
       "       [ 0.22576265, -0.56331547],\n",
       "       [ 0.09599166, -0.22894363],\n",
       "       [ 1.95604258, -0.42001326],\n",
       "       [ 0.67563543, -0.72254016],\n",
       "       [ 2.43186956, -0.16525376],\n",
       "       [ 2.25019017, -0.19709869],\n",
       "       [ 1.5580782 ,  0.0098934 ],\n",
       "       [ 1.488867  , -0.37224585],\n",
       "       [ 0.19115705, -0.7543851 ],\n",
       "       [ 2.09446454, -0.88176485],\n",
       "       [ 2.00795098, -0.27671104],\n",
       "       [ 1.14281101, -0.02195154],\n",
       "       [ 0.96978302,  0.0098934 ],\n",
       "       [ 2.22423597,  0.28057537],\n",
       "       [ 1.83492299,  0.29649784],\n",
       "       [ 1.79166599, -0.59516041]])"
      ]
     },
     "execution_count": 10,
     "metadata": {},
     "output_type": "execute_result"
    }
   ],
   "source": [
    "X_std"
   ]
  },
  {
   "cell_type": "code",
   "execution_count": 11,
   "metadata": {},
   "outputs": [],
   "source": [
    "# 解説 5：機械学習で分類する---------------------------------------------------\n",
    "# loss=\"hinge\", loss=\"log\"\n",
    "# 基本的にはhinge関数でよい。log関数にすれば、識別確率を求めることができる。\n",
    "clf_result = linear_model.SGDClassifier(loss=\"hinge\") "
   ]
  },
  {
   "cell_type": "code",
   "execution_count": 12,
   "metadata": {},
   "outputs": [
    {
     "name": "stdout",
     "output_type": "stream",
     "text": [
      "平均正解率 =  0.8663398692810457\n",
      "正解率の標準偏差 =  0.0966066357414934\n"
     ]
    }
   ],
   "source": [
    "# 解説 6：K分割交差検証（cross validation）で性能を評価する---------------------\n",
    "scores = model_selection.cross_val_score(clf_result, X_std, z, cv=10)\n",
    "print(\"平均正解率 = \", scores.mean())\n",
    "print(\"正解率の標準偏差 = \", scores.std())"
   ]
  },
  {
   "cell_type": "code",
   "execution_count": 13,
   "metadata": {},
   "outputs": [
    {
     "data": {
      "text/plain": [
       "array([0.77777778, 0.77777778, 0.66666667, 0.83333333, 0.88888889,\n",
       "       0.94444444, 0.88888889, 0.94444444, 0.94117647, 1.        ])"
      ]
     },
     "execution_count": 13,
     "metadata": {},
     "output_type": "execute_result"
    }
   ],
   "source": [
    "scores"
   ]
  },
  {
   "cell_type": "code",
   "execution_count": 14,
   "metadata": {},
   "outputs": [
    {
     "data": {
      "text/plain": [
       "SGDClassifier(alpha=0.0001, average=False, class_weight=None,\n",
       "              early_stopping=False, epsilon=0.1, eta0=0.0, fit_intercept=True,\n",
       "              l1_ratio=0.15, learning_rate='optimal', loss='hinge',\n",
       "              max_iter=1000, n_iter_no_change=5, n_jobs=None, penalty='l2',\n",
       "              power_t=0.5, random_state=None, shuffle=True, tol=0.001,\n",
       "              validation_fraction=0.1, verbose=0, warm_start=False)"
      ]
     },
     "execution_count": 14,
     "metadata": {},
     "output_type": "execute_result"
    }
   ],
   "source": [
    "# 解説 7：トレーニングデータとテストデータに分けて実行してみる------------------\n",
    "X_train, X_test, train_label, test_label = model_selection.train_test_split(X_std,\n",
    "                                                                            z,\n",
    "                                                                            test_size=0.1,\n",
    "                                                                            random_state=0)\n",
    "clf_result.fit(X_train, train_label)"
   ]
  },
  {
   "cell_type": "code",
   "execution_count": 15,
   "metadata": {},
   "outputs": [
    {
     "name": "stdout",
     "output_type": "stream",
     "text": [
      "正答率 =  0.8333333333333334\n"
     ]
    }
   ],
   "source": [
    "# 正答率を求める\n",
    "pre=clf_result.predict(X_test)\n",
    "ac_score=metrics.accuracy_score(test_label,pre)\n",
    "print(\"正答率 = \",ac_score)"
   ]
  },
  {
   "cell_type": "code",
   "execution_count": 16,
   "metadata": {},
   "outputs": [],
   "source": [
    "# plotデータの準備\n",
    "X_train_plot = np.vstack(X_train)\n",
    "train_label_plot = np.hstack(train_label)\n",
    "X_test_plot = np.vstack(X_test)\n",
    "test_label_plot = np.hstack(test_label)"
   ]
  },
  {
   "cell_type": "code",
   "execution_count": 17,
   "metadata": {},
   "outputs": [
    {
     "data": {
      "text/plain": [
       "<matplotlib.axes._subplots.AxesSubplot at 0x1212582d0>"
      ]
     },
     "execution_count": 17,
     "metadata": {},
     "output_type": "execute_result"
    },
    {
     "data": {
      "image/png": "[encoded data removed]",
      "text/plain": [
       "<Figure size 432x288 with 1 Axes>"
      ]
     },
     "metadata": {
      "needs_background": "light"
     },
     "output_type": "display_data"
    }
   ],
   "source": [
    "# 学習データをプロット\n",
    "plot_decision_regions(X_train_plot, train_label_plot, clf=clf_result, res=0.01)"
   ]
  },
  {
   "cell_type": "code",
   "execution_count": 18,
   "metadata": {},
   "outputs": [
    {
     "data": {
      "text/plain": [
       "<matplotlib.axes._subplots.AxesSubplot at 0x1223fac90>"
      ]
     },
     "execution_count": 18,
     "metadata": {},
     "output_type": "execute_result"
    },
    {
     "data": {
      "image/png": "[encoded data removed]",
      "text/plain": [
       "<Figure size 432x288 with 1 Axes>"
      ]
     },
     "metadata": {
      "needs_background": "light"
     },
     "output_type": "display_data"
    }
   ],
   "source": [
    "# テストデータをプロット\n",
    "plot_decision_regions(X_test_plot, test_label_plot, clf=clf_result, res=0.01, legend=2)"
   ]
  },
  {
   "cell_type": "code",
   "execution_count": 19,
   "metadata": {},
   "outputs": [
    {
     "name": "stdout",
     "output_type": "stream",
     "text": [
      "このテストデータのラベル =  [0]\n"
     ]
    }
   ],
   "source": [
    "# 解説 8：任意のデータに対する識別結果を見てみる------------------\n",
    "predicted_label = clf_result.predict([[3, 3]])\n",
    "print(\"このテストデータのラベル = \", predicted_label)"
   ]
  },
  {
   "cell_type": "code",
   "execution_count": 20,
   "metadata": {},
   "outputs": [
    {
     "name": "stdout",
     "output_type": "stream",
     "text": [
      "[-1.9239473  -6.5572406  -5.85555006]\n",
      "[[ -2.17474727   8.184355  ]\n",
      " [-20.78606068  -6.89386098]\n",
      " [  5.31711102  -4.15422884]]\n"
     ]
    }
   ],
   "source": [
    "# 解説 9：識別平面の式を手に入れる--------------------------------\n",
    "print(clf_result.intercept_)\n",
    "print(clf_result.coef_ )  # coef[0]*x + coef[1]*y + intercept = 0"
   ]
  }
 ],
 "metadata": {
  "kernelspec": {
   "display_name": "Python 3",
   "language": "python",
   "name": "python3"
  },
  "language_info": {
   "codemirror_mode": {
    "name": "ipython",
    "version": 3
   },
   "file_extension": ".py",
   "mimetype": "text/x-python",
   "name": "python",
   "nbconvert_exporter": "python",
   "pygments_lexer": "ipython3",
   "version": "3.7.6"
  }
 },
 "nbformat": 4,
 "nbformat_minor": 4
}
